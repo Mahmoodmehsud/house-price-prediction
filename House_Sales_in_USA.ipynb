{
  "cells": [
    {
      "cell_type": "markdown",
      "metadata": {
        "id": "view-in-github",
        "colab_type": "text"
      },
      "source": [
        "<a href=\"https://colab.research.google.com/github/Mahmoodmehsud/house-price-prediction/blob/main/House_Sales_in_USA.ipynb\" target=\"_parent\"><img src=\"https://colab.research.google.com/assets/colab-badge.svg\" alt=\"Open In Colab\"/></a>"
      ]
    },
    {
      "cell_type": "markdown",
      "metadata": {
        "id": "M_b7lfhKKBjZ"
      },
      "source": [
        "<p style=\"text-align:center\">\n",
        "    <a href=\"https://skills.network/?utm_medium=Exinfluencer&utm_source=Exinfluencer&utm_content=000026UJ&utm_term=10006555&utm_id=NA-SkillsNetwork-Channel-SkillsNetworkCoursesIBMDeveloperSkillsNetworkDA0101ENSkillsNetwork20235326-2022-01-01\" target=\"_blank\">\n",
        "    <img src=\"https://cf-courses-data.s3.us.cloud-object-storage.appdomain.cloud/assets/logos/SN_web_lightmode.png\" width=\"200\" alt=\"Skills Network Logo\"  />\n",
        "    </a>\n",
        "</p>\n",
        "\n",
        "<h1 align=center><font size = 5>Data Analysis with Python</font></h1>\n"
      ]
    },
    {
      "cell_type": "markdown",
      "metadata": {
        "id": "JEEjHbnoKBjd"
      },
      "source": [
        "# House Sales in King County, USA\n"
      ]
    },
    {
      "cell_type": "markdown",
      "metadata": {
        "id": "bqO2_0FrKBje"
      },
      "source": [
        "This dataset contains house sale prices for King County, which includes Seattle. It includes homes sold between May 2014 and May 2015.\n"
      ]
    },
    {
      "cell_type": "markdown",
      "metadata": {
        "id": "-TXpURb8KBjf"
      },
      "source": [
        "| Variable      | Description                                                                                                 |\n",
        "| ------------- | ----------------------------------------------------------------------------------------------------------- |\n",
        "| id            | A notation for a house                                                                                      |\n",
        "| date          | Date house was sold                                                                                         |\n",
        "| price         | Price is prediction target                                                                                  |\n",
        "| bedrooms      | Number of bedrooms                                                                                          |\n",
        "| bathrooms     | Number of bathrooms                                                                                         |\n",
        "| sqft_living   | Square footage of the home                                                                                  |\n",
        "| sqft_lot      | Square footage of the lot                                                                                   |\n",
        "| floors        | Total floors (levels) in house                                                                              |\n",
        "| waterfront    | House which has a view to a waterfront                                                                      |\n",
        "| view          | Has been viewed                                                                                             |\n",
        "| condition     | How good the condition is overall                                                                           |\n",
        "| grade         | overall grade given to the housing unit, based on King County grading system                                |\n",
        "| sqft_above    | Square footage of house apart from basement                                                                 |\n",
        "| sqft_basement | Square footage of the basement                                                                              |\n",
        "| yr_built      | Built Year                                                                                                  |\n",
        "| yr_renovated  | Year when house was renovated                                                                               |\n",
        "| zipcode       | Zip code                                                                                                    |\n",
        "| lat           | Latitude coordinate                                                                                         |\n",
        "| long          | Longitude coordinate                                                                                        |\n",
        "| sqft_living15 | Living room area in 2015(implies-- some renovations) This might or might not have affected the lotsize area |\n",
        "| sqft_lot15    | LotSize area in 2015(implies-- some renovations)                                                            |\n"
      ]
    },
    {
      "cell_type": "code",
      "execution_count": 1,
      "metadata": {
        "colab": {
          "base_uri": "https://localhost:8080/"
        },
        "id": "VHHZA0FrKBjg",
        "outputId": "63968383-191e-4808-bb3e-61e0c3f965e1"
      },
      "outputs": [
        {
          "output_type": "stream",
          "name": "stdout",
          "text": [
            "Requirement already satisfied: scikit-learn in /usr/local/lib/python3.10/dist-packages (1.2.2)\n",
            "Collecting scikit-learn\n",
            "  Downloading scikit_learn-1.3.2-cp310-cp310-manylinux_2_17_x86_64.manylinux2014_x86_64.whl (10.8 MB)\n",
            "\u001b[2K     \u001b[90m━━━━━━━━━━━━━━━━━━━━━━━━━━━━━━━━━━━━━━━━\u001b[0m \u001b[32m10.8/10.8 MB\u001b[0m \u001b[31m83.1 MB/s\u001b[0m eta \u001b[36m0:00:00\u001b[0m\n",
            "\u001b[?25hRequirement already satisfied: numpy<2.0,>=1.17.3 in /usr/local/lib/python3.10/dist-packages (from scikit-learn) (1.23.5)\n",
            "Requirement already satisfied: scipy>=1.5.0 in /usr/local/lib/python3.10/dist-packages (from scikit-learn) (1.11.3)\n",
            "Requirement already satisfied: joblib>=1.1.1 in /usr/local/lib/python3.10/dist-packages (from scikit-learn) (1.3.2)\n",
            "Requirement already satisfied: threadpoolctl>=2.0.0 in /usr/local/lib/python3.10/dist-packages (from scikit-learn) (3.2.0)\n",
            "Installing collected packages: scikit-learn\n",
            "Successfully installed scikit-learn-1.3.2\n"
          ]
        }
      ],
      "source": [
        "#After executing the below command restart the kernel and run all cells.\n",
        "!pip3 install scikit-learn --upgrade --user"
      ]
    },
    {
      "cell_type": "markdown",
      "metadata": {
        "id": "ZjGRx70oKBji"
      },
      "source": [
        "You will require the following libraries:\n"
      ]
    },
    {
      "cell_type": "code",
      "execution_count": 19,
      "metadata": {
        "id": "FesMi4EpKBjj"
      },
      "outputs": [],
      "source": [
        "import pandas as pd\n",
        "import matplotlib.pyplot as plt\n",
        "import numpy as np\n",
        "import seaborn as sns\n",
        "from sklearn.pipeline import Pipeline\n",
        "from sklearn.preprocessing import StandardScaler,PolynomialFeatures\n",
        "from sklearn.linear_model import LinearRegression\n",
        "%matplotlib inline"
      ]
    },
    {
      "cell_type": "markdown",
      "metadata": {
        "id": "aakeYPxrKBjk"
      },
      "source": [
        "# Module 1: Importing Data Sets\n"
      ]
    },
    {
      "cell_type": "markdown",
      "metadata": {
        "id": "SxXKXLghKBjl"
      },
      "source": [
        "Load the csv:\n"
      ]
    },
    {
      "cell_type": "code",
      "execution_count": 20,
      "metadata": {
        "jupyter": {
          "outputs_hidden": false
        },
        "id": "4tB2q8UYKBjn"
      },
      "outputs": [],
      "source": [
        "file_name='https://cf-courses-data.s3.us.cloud-object-storage.appdomain.cloud/IBMDeveloperSkillsNetwork-DA0101EN-SkillsNetwork/labs/FinalModule_Coursera/data/kc_house_data_NaN.csv'\n",
        "df=pd.read_csv(file_name)"
      ]
    },
    {
      "cell_type": "markdown",
      "metadata": {
        "id": "b5RTtvMHKBjo"
      },
      "source": [
        "We use the method <code>head</code> to display the first 5 columns of the dataframe.\n"
      ]
    },
    {
      "cell_type": "code",
      "execution_count": 21,
      "metadata": {
        "colab": {
          "base_uri": "https://localhost:8080/",
          "height": 273
        },
        "id": "NdByjhq3KBjp",
        "outputId": "acf0453b-9dd4-475f-dc4f-b9c04f9bb5f4"
      },
      "outputs": [
        {
          "output_type": "execute_result",
          "data": {
            "text/plain": [
              "   Unnamed: 0          id             date     price  bedrooms  bathrooms  \\\n",
              "0           0  7129300520  20141013T000000  221900.0       3.0       1.00   \n",
              "1           1  6414100192  20141209T000000  538000.0       3.0       2.25   \n",
              "2           2  5631500400  20150225T000000  180000.0       2.0       1.00   \n",
              "3           3  2487200875  20141209T000000  604000.0       4.0       3.00   \n",
              "4           4  1954400510  20150218T000000  510000.0       3.0       2.00   \n",
              "\n",
              "   sqft_living  sqft_lot  floors  waterfront  ...  grade  sqft_above  \\\n",
              "0         1180      5650     1.0           0  ...      7        1180   \n",
              "1         2570      7242     2.0           0  ...      7        2170   \n",
              "2          770     10000     1.0           0  ...      6         770   \n",
              "3         1960      5000     1.0           0  ...      7        1050   \n",
              "4         1680      8080     1.0           0  ...      8        1680   \n",
              "\n",
              "   sqft_basement  yr_built  yr_renovated  zipcode      lat     long  \\\n",
              "0              0      1955             0    98178  47.5112 -122.257   \n",
              "1            400      1951          1991    98125  47.7210 -122.319   \n",
              "2              0      1933             0    98028  47.7379 -122.233   \n",
              "3            910      1965             0    98136  47.5208 -122.393   \n",
              "4              0      1987             0    98074  47.6168 -122.045   \n",
              "\n",
              "   sqft_living15  sqft_lot15  \n",
              "0           1340        5650  \n",
              "1           1690        7639  \n",
              "2           2720        8062  \n",
              "3           1360        5000  \n",
              "4           1800        7503  \n",
              "\n",
              "[5 rows x 22 columns]"
            ],
            "text/html": [
              "\n",
              "  <div id=\"df-c76ffde8-de6e-407b-9ea0-421009e64719\" class=\"colab-df-container\">\n",
              "    <div>\n",
              "<style scoped>\n",
              "    .dataframe tbody tr th:only-of-type {\n",
              "        vertical-align: middle;\n",
              "    }\n",
              "\n",
              "    .dataframe tbody tr th {\n",
              "        vertical-align: top;\n",
              "    }\n",
              "\n",
              "    .dataframe thead th {\n",
              "        text-align: right;\n",
              "    }\n",
              "</style>\n",
              "<table border=\"1\" class=\"dataframe\">\n",
              "  <thead>\n",
              "    <tr style=\"text-align: right;\">\n",
              "      <th></th>\n",
              "      <th>Unnamed: 0</th>\n",
              "      <th>id</th>\n",
              "      <th>date</th>\n",
              "      <th>price</th>\n",
              "      <th>bedrooms</th>\n",
              "      <th>bathrooms</th>\n",
              "      <th>sqft_living</th>\n",
              "      <th>sqft_lot</th>\n",
              "      <th>floors</th>\n",
              "      <th>waterfront</th>\n",
              "      <th>...</th>\n",
              "      <th>grade</th>\n",
              "      <th>sqft_above</th>\n",
              "      <th>sqft_basement</th>\n",
              "      <th>yr_built</th>\n",
              "      <th>yr_renovated</th>\n",
              "      <th>zipcode</th>\n",
              "      <th>lat</th>\n",
              "      <th>long</th>\n",
              "      <th>sqft_living15</th>\n",
              "      <th>sqft_lot15</th>\n",
              "    </tr>\n",
              "  </thead>\n",
              "  <tbody>\n",
              "    <tr>\n",
              "      <th>0</th>\n",
              "      <td>0</td>\n",
              "      <td>7129300520</td>\n",
              "      <td>20141013T000000</td>\n",
              "      <td>221900.0</td>\n",
              "      <td>3.0</td>\n",
              "      <td>1.00</td>\n",
              "      <td>1180</td>\n",
              "      <td>5650</td>\n",
              "      <td>1.0</td>\n",
              "      <td>0</td>\n",
              "      <td>...</td>\n",
              "      <td>7</td>\n",
              "      <td>1180</td>\n",
              "      <td>0</td>\n",
              "      <td>1955</td>\n",
              "      <td>0</td>\n",
              "      <td>98178</td>\n",
              "      <td>47.5112</td>\n",
              "      <td>-122.257</td>\n",
              "      <td>1340</td>\n",
              "      <td>5650</td>\n",
              "    </tr>\n",
              "    <tr>\n",
              "      <th>1</th>\n",
              "      <td>1</td>\n",
              "      <td>6414100192</td>\n",
              "      <td>20141209T000000</td>\n",
              "      <td>538000.0</td>\n",
              "      <td>3.0</td>\n",
              "      <td>2.25</td>\n",
              "      <td>2570</td>\n",
              "      <td>7242</td>\n",
              "      <td>2.0</td>\n",
              "      <td>0</td>\n",
              "      <td>...</td>\n",
              "      <td>7</td>\n",
              "      <td>2170</td>\n",
              "      <td>400</td>\n",
              "      <td>1951</td>\n",
              "      <td>1991</td>\n",
              "      <td>98125</td>\n",
              "      <td>47.7210</td>\n",
              "      <td>-122.319</td>\n",
              "      <td>1690</td>\n",
              "      <td>7639</td>\n",
              "    </tr>\n",
              "    <tr>\n",
              "      <th>2</th>\n",
              "      <td>2</td>\n",
              "      <td>5631500400</td>\n",
              "      <td>20150225T000000</td>\n",
              "      <td>180000.0</td>\n",
              "      <td>2.0</td>\n",
              "      <td>1.00</td>\n",
              "      <td>770</td>\n",
              "      <td>10000</td>\n",
              "      <td>1.0</td>\n",
              "      <td>0</td>\n",
              "      <td>...</td>\n",
              "      <td>6</td>\n",
              "      <td>770</td>\n",
              "      <td>0</td>\n",
              "      <td>1933</td>\n",
              "      <td>0</td>\n",
              "      <td>98028</td>\n",
              "      <td>47.7379</td>\n",
              "      <td>-122.233</td>\n",
              "      <td>2720</td>\n",
              "      <td>8062</td>\n",
              "    </tr>\n",
              "    <tr>\n",
              "      <th>3</th>\n",
              "      <td>3</td>\n",
              "      <td>2487200875</td>\n",
              "      <td>20141209T000000</td>\n",
              "      <td>604000.0</td>\n",
              "      <td>4.0</td>\n",
              "      <td>3.00</td>\n",
              "      <td>1960</td>\n",
              "      <td>5000</td>\n",
              "      <td>1.0</td>\n",
              "      <td>0</td>\n",
              "      <td>...</td>\n",
              "      <td>7</td>\n",
              "      <td>1050</td>\n",
              "      <td>910</td>\n",
              "      <td>1965</td>\n",
              "      <td>0</td>\n",
              "      <td>98136</td>\n",
              "      <td>47.5208</td>\n",
              "      <td>-122.393</td>\n",
              "      <td>1360</td>\n",
              "      <td>5000</td>\n",
              "    </tr>\n",
              "    <tr>\n",
              "      <th>4</th>\n",
              "      <td>4</td>\n",
              "      <td>1954400510</td>\n",
              "      <td>20150218T000000</td>\n",
              "      <td>510000.0</td>\n",
              "      <td>3.0</td>\n",
              "      <td>2.00</td>\n",
              "      <td>1680</td>\n",
              "      <td>8080</td>\n",
              "      <td>1.0</td>\n",
              "      <td>0</td>\n",
              "      <td>...</td>\n",
              "      <td>8</td>\n",
              "      <td>1680</td>\n",
              "      <td>0</td>\n",
              "      <td>1987</td>\n",
              "      <td>0</td>\n",
              "      <td>98074</td>\n",
              "      <td>47.6168</td>\n",
              "      <td>-122.045</td>\n",
              "      <td>1800</td>\n",
              "      <td>7503</td>\n",
              "    </tr>\n",
              "  </tbody>\n",
              "</table>\n",
              "<p>5 rows × 22 columns</p>\n",
              "</div>\n",
              "    <div class=\"colab-df-buttons\">\n",
              "\n",
              "  <div class=\"colab-df-container\">\n",
              "    <button class=\"colab-df-convert\" onclick=\"convertToInteractive('df-c76ffde8-de6e-407b-9ea0-421009e64719')\"\n",
              "            title=\"Convert this dataframe to an interactive table.\"\n",
              "            style=\"display:none;\">\n",
              "\n",
              "  <svg xmlns=\"http://www.w3.org/2000/svg\" height=\"24px\" viewBox=\"0 -960 960 960\">\n",
              "    <path d=\"M120-120v-720h720v720H120Zm60-500h600v-160H180v160Zm220 220h160v-160H400v160Zm0 220h160v-160H400v160ZM180-400h160v-160H180v160Zm440 0h160v-160H620v160ZM180-180h160v-160H180v160Zm440 0h160v-160H620v160Z\"/>\n",
              "  </svg>\n",
              "    </button>\n",
              "\n",
              "  <style>\n",
              "    .colab-df-container {\n",
              "      display:flex;\n",
              "      gap: 12px;\n",
              "    }\n",
              "\n",
              "    .colab-df-convert {\n",
              "      background-color: #E8F0FE;\n",
              "      border: none;\n",
              "      border-radius: 50%;\n",
              "      cursor: pointer;\n",
              "      display: none;\n",
              "      fill: #1967D2;\n",
              "      height: 32px;\n",
              "      padding: 0 0 0 0;\n",
              "      width: 32px;\n",
              "    }\n",
              "\n",
              "    .colab-df-convert:hover {\n",
              "      background-color: #E2EBFA;\n",
              "      box-shadow: 0px 1px 2px rgba(60, 64, 67, 0.3), 0px 1px 3px 1px rgba(60, 64, 67, 0.15);\n",
              "      fill: #174EA6;\n",
              "    }\n",
              "\n",
              "    .colab-df-buttons div {\n",
              "      margin-bottom: 4px;\n",
              "    }\n",
              "\n",
              "    [theme=dark] .colab-df-convert {\n",
              "      background-color: #3B4455;\n",
              "      fill: #D2E3FC;\n",
              "    }\n",
              "\n",
              "    [theme=dark] .colab-df-convert:hover {\n",
              "      background-color: #434B5C;\n",
              "      box-shadow: 0px 1px 3px 1px rgba(0, 0, 0, 0.15);\n",
              "      filter: drop-shadow(0px 1px 2px rgba(0, 0, 0, 0.3));\n",
              "      fill: #FFFFFF;\n",
              "    }\n",
              "  </style>\n",
              "\n",
              "    <script>\n",
              "      const buttonEl =\n",
              "        document.querySelector('#df-c76ffde8-de6e-407b-9ea0-421009e64719 button.colab-df-convert');\n",
              "      buttonEl.style.display =\n",
              "        google.colab.kernel.accessAllowed ? 'block' : 'none';\n",
              "\n",
              "      async function convertToInteractive(key) {\n",
              "        const element = document.querySelector('#df-c76ffde8-de6e-407b-9ea0-421009e64719');\n",
              "        const dataTable =\n",
              "          await google.colab.kernel.invokeFunction('convertToInteractive',\n",
              "                                                    [key], {});\n",
              "        if (!dataTable) return;\n",
              "\n",
              "        const docLinkHtml = 'Like what you see? Visit the ' +\n",
              "          '<a target=\"_blank\" href=https://colab.research.google.com/notebooks/data_table.ipynb>data table notebook</a>'\n",
              "          + ' to learn more about interactive tables.';\n",
              "        element.innerHTML = '';\n",
              "        dataTable['output_type'] = 'display_data';\n",
              "        await google.colab.output.renderOutput(dataTable, element);\n",
              "        const docLink = document.createElement('div');\n",
              "        docLink.innerHTML = docLinkHtml;\n",
              "        element.appendChild(docLink);\n",
              "      }\n",
              "    </script>\n",
              "  </div>\n",
              "\n",
              "\n",
              "<div id=\"df-48d98aab-d69e-4c29-be7a-cd0fc985e2cb\">\n",
              "  <button class=\"colab-df-quickchart\" onclick=\"quickchart('df-48d98aab-d69e-4c29-be7a-cd0fc985e2cb')\"\n",
              "            title=\"Suggest charts\"\n",
              "            style=\"display:none;\">\n",
              "\n",
              "<svg xmlns=\"http://www.w3.org/2000/svg\" height=\"24px\"viewBox=\"0 0 24 24\"\n",
              "     width=\"24px\">\n",
              "    <g>\n",
              "        <path d=\"M19 3H5c-1.1 0-2 .9-2 2v14c0 1.1.9 2 2 2h14c1.1 0 2-.9 2-2V5c0-1.1-.9-2-2-2zM9 17H7v-7h2v7zm4 0h-2V7h2v10zm4 0h-2v-4h2v4z\"/>\n",
              "    </g>\n",
              "</svg>\n",
              "  </button>\n",
              "\n",
              "<style>\n",
              "  .colab-df-quickchart {\n",
              "      --bg-color: #E8F0FE;\n",
              "      --fill-color: #1967D2;\n",
              "      --hover-bg-color: #E2EBFA;\n",
              "      --hover-fill-color: #174EA6;\n",
              "      --disabled-fill-color: #AAA;\n",
              "      --disabled-bg-color: #DDD;\n",
              "  }\n",
              "\n",
              "  [theme=dark] .colab-df-quickchart {\n",
              "      --bg-color: #3B4455;\n",
              "      --fill-color: #D2E3FC;\n",
              "      --hover-bg-color: #434B5C;\n",
              "      --hover-fill-color: #FFFFFF;\n",
              "      --disabled-bg-color: #3B4455;\n",
              "      --disabled-fill-color: #666;\n",
              "  }\n",
              "\n",
              "  .colab-df-quickchart {\n",
              "    background-color: var(--bg-color);\n",
              "    border: none;\n",
              "    border-radius: 50%;\n",
              "    cursor: pointer;\n",
              "    display: none;\n",
              "    fill: var(--fill-color);\n",
              "    height: 32px;\n",
              "    padding: 0;\n",
              "    width: 32px;\n",
              "  }\n",
              "\n",
              "  .colab-df-quickchart:hover {\n",
              "    background-color: var(--hover-bg-color);\n",
              "    box-shadow: 0 1px 2px rgba(60, 64, 67, 0.3), 0 1px 3px 1px rgba(60, 64, 67, 0.15);\n",
              "    fill: var(--button-hover-fill-color);\n",
              "  }\n",
              "\n",
              "  .colab-df-quickchart-complete:disabled,\n",
              "  .colab-df-quickchart-complete:disabled:hover {\n",
              "    background-color: var(--disabled-bg-color);\n",
              "    fill: var(--disabled-fill-color);\n",
              "    box-shadow: none;\n",
              "  }\n",
              "\n",
              "  .colab-df-spinner {\n",
              "    border: 2px solid var(--fill-color);\n",
              "    border-color: transparent;\n",
              "    border-bottom-color: var(--fill-color);\n",
              "    animation:\n",
              "      spin 1s steps(1) infinite;\n",
              "  }\n",
              "\n",
              "  @keyframes spin {\n",
              "    0% {\n",
              "      border-color: transparent;\n",
              "      border-bottom-color: var(--fill-color);\n",
              "      border-left-color: var(--fill-color);\n",
              "    }\n",
              "    20% {\n",
              "      border-color: transparent;\n",
              "      border-left-color: var(--fill-color);\n",
              "      border-top-color: var(--fill-color);\n",
              "    }\n",
              "    30% {\n",
              "      border-color: transparent;\n",
              "      border-left-color: var(--fill-color);\n",
              "      border-top-color: var(--fill-color);\n",
              "      border-right-color: var(--fill-color);\n",
              "    }\n",
              "    40% {\n",
              "      border-color: transparent;\n",
              "      border-right-color: var(--fill-color);\n",
              "      border-top-color: var(--fill-color);\n",
              "    }\n",
              "    60% {\n",
              "      border-color: transparent;\n",
              "      border-right-color: var(--fill-color);\n",
              "    }\n",
              "    80% {\n",
              "      border-color: transparent;\n",
              "      border-right-color: var(--fill-color);\n",
              "      border-bottom-color: var(--fill-color);\n",
              "    }\n",
              "    90% {\n",
              "      border-color: transparent;\n",
              "      border-bottom-color: var(--fill-color);\n",
              "    }\n",
              "  }\n",
              "</style>\n",
              "\n",
              "  <script>\n",
              "    async function quickchart(key) {\n",
              "      const quickchartButtonEl =\n",
              "        document.querySelector('#' + key + ' button');\n",
              "      quickchartButtonEl.disabled = true;  // To prevent multiple clicks.\n",
              "      quickchartButtonEl.classList.add('colab-df-spinner');\n",
              "      try {\n",
              "        const charts = await google.colab.kernel.invokeFunction(\n",
              "            'suggestCharts', [key], {});\n",
              "      } catch (error) {\n",
              "        console.error('Error during call to suggestCharts:', error);\n",
              "      }\n",
              "      quickchartButtonEl.classList.remove('colab-df-spinner');\n",
              "      quickchartButtonEl.classList.add('colab-df-quickchart-complete');\n",
              "    }\n",
              "    (() => {\n",
              "      let quickchartButtonEl =\n",
              "        document.querySelector('#df-48d98aab-d69e-4c29-be7a-cd0fc985e2cb button');\n",
              "      quickchartButtonEl.style.display =\n",
              "        google.colab.kernel.accessAllowed ? 'block' : 'none';\n",
              "    })();\n",
              "  </script>\n",
              "</div>\n",
              "    </div>\n",
              "  </div>\n"
            ]
          },
          "metadata": {},
          "execution_count": 21
        }
      ],
      "source": [
        "df.head()"
      ]
    },
    {
      "cell_type": "code",
      "execution_count": 16,
      "metadata": {
        "id": "KYdOrcn0KBjq"
      },
      "outputs": [],
      "source": [
        "df.to_csv('house_prices.csv')"
      ]
    },
    {
      "cell_type": "markdown",
      "metadata": {
        "id": "fhM9wC3zKBjr"
      },
      "source": [
        "### Question 1\n",
        "\n",
        "Display the data types of each column using the function dtypes, then take a screenshot and submit it, include your code in the image.\n"
      ]
    },
    {
      "cell_type": "code",
      "execution_count": 22,
      "metadata": {
        "jupyter": {
          "outputs_hidden": false
        },
        "colab": {
          "base_uri": "https://localhost:8080/"
        },
        "id": "fKCPiIkmKBjr",
        "outputId": "43c516df-a249-424c-d3e2-687340f74317"
      },
      "outputs": [
        {
          "output_type": "execute_result",
          "data": {
            "text/plain": [
              "Unnamed: 0         int64\n",
              "id                 int64\n",
              "date              object\n",
              "price            float64\n",
              "bedrooms         float64\n",
              "bathrooms        float64\n",
              "sqft_living        int64\n",
              "sqft_lot           int64\n",
              "floors           float64\n",
              "waterfront         int64\n",
              "view               int64\n",
              "condition          int64\n",
              "grade              int64\n",
              "sqft_above         int64\n",
              "sqft_basement      int64\n",
              "yr_built           int64\n",
              "yr_renovated       int64\n",
              "zipcode            int64\n",
              "lat              float64\n",
              "long             float64\n",
              "sqft_living15      int64\n",
              "sqft_lot15         int64\n",
              "dtype: object"
            ]
          },
          "metadata": {},
          "execution_count": 22
        }
      ],
      "source": [
        "df.dtypes"
      ]
    },
    {
      "cell_type": "markdown",
      "metadata": {
        "id": "Dr4zYm9hKBjs"
      },
      "source": [
        "We use the method describe to obtain a statistical summary of the dataframe.\n"
      ]
    },
    {
      "cell_type": "code",
      "execution_count": 23,
      "metadata": {
        "jupyter": {
          "outputs_hidden": false
        },
        "colab": {
          "base_uri": "https://localhost:8080/",
          "height": 349
        },
        "id": "qI-hcPG5KBjs",
        "outputId": "9de28cae-b0e0-42ea-e368-82ee05a95125"
      },
      "outputs": [
        {
          "output_type": "execute_result",
          "data": {
            "text/plain": [
              "        Unnamed: 0            id         price      bedrooms     bathrooms  \\\n",
              "count  21613.00000  2.161300e+04  2.161300e+04  21600.000000  21603.000000   \n",
              "mean   10806.00000  4.580302e+09  5.400881e+05      3.372870      2.115736   \n",
              "std     6239.28002  2.876566e+09  3.671272e+05      0.926657      0.768996   \n",
              "min        0.00000  1.000102e+06  7.500000e+04      1.000000      0.500000   \n",
              "25%     5403.00000  2.123049e+09  3.219500e+05      3.000000      1.750000   \n",
              "50%    10806.00000  3.904930e+09  4.500000e+05      3.000000      2.250000   \n",
              "75%    16209.00000  7.308900e+09  6.450000e+05      4.000000      2.500000   \n",
              "max    21612.00000  9.900000e+09  7.700000e+06     33.000000      8.000000   \n",
              "\n",
              "        sqft_living      sqft_lot        floors    waterfront          view  \\\n",
              "count  21613.000000  2.161300e+04  21613.000000  21613.000000  21613.000000   \n",
              "mean    2079.899736  1.510697e+04      1.494309      0.007542      0.234303   \n",
              "std      918.440897  4.142051e+04      0.539989      0.086517      0.766318   \n",
              "min      290.000000  5.200000e+02      1.000000      0.000000      0.000000   \n",
              "25%     1427.000000  5.040000e+03      1.000000      0.000000      0.000000   \n",
              "50%     1910.000000  7.618000e+03      1.500000      0.000000      0.000000   \n",
              "75%     2550.000000  1.068800e+04      2.000000      0.000000      0.000000   \n",
              "max    13540.000000  1.651359e+06      3.500000      1.000000      4.000000   \n",
              "\n",
              "       ...         grade    sqft_above  sqft_basement      yr_built  \\\n",
              "count  ...  21613.000000  21613.000000   21613.000000  21613.000000   \n",
              "mean   ...      7.656873   1788.390691     291.509045   1971.005136   \n",
              "std    ...      1.175459    828.090978     442.575043     29.373411   \n",
              "min    ...      1.000000    290.000000       0.000000   1900.000000   \n",
              "25%    ...      7.000000   1190.000000       0.000000   1951.000000   \n",
              "50%    ...      7.000000   1560.000000       0.000000   1975.000000   \n",
              "75%    ...      8.000000   2210.000000     560.000000   1997.000000   \n",
              "max    ...     13.000000   9410.000000    4820.000000   2015.000000   \n",
              "\n",
              "       yr_renovated       zipcode           lat          long  sqft_living15  \\\n",
              "count  21613.000000  21613.000000  21613.000000  21613.000000   21613.000000   \n",
              "mean      84.402258  98077.939805     47.560053   -122.213896    1986.552492   \n",
              "std      401.679240     53.505026      0.138564      0.140828     685.391304   \n",
              "min        0.000000  98001.000000     47.155900   -122.519000     399.000000   \n",
              "25%        0.000000  98033.000000     47.471000   -122.328000    1490.000000   \n",
              "50%        0.000000  98065.000000     47.571800   -122.230000    1840.000000   \n",
              "75%        0.000000  98118.000000     47.678000   -122.125000    2360.000000   \n",
              "max     2015.000000  98199.000000     47.777600   -121.315000    6210.000000   \n",
              "\n",
              "          sqft_lot15  \n",
              "count   21613.000000  \n",
              "mean    12768.455652  \n",
              "std     27304.179631  \n",
              "min       651.000000  \n",
              "25%      5100.000000  \n",
              "50%      7620.000000  \n",
              "75%     10083.000000  \n",
              "max    871200.000000  \n",
              "\n",
              "[8 rows x 21 columns]"
            ],
            "text/html": [
              "\n",
              "  <div id=\"df-47c769eb-fb7c-45a0-a2ce-0f4bbf7c1be7\" class=\"colab-df-container\">\n",
              "    <div>\n",
              "<style scoped>\n",
              "    .dataframe tbody tr th:only-of-type {\n",
              "        vertical-align: middle;\n",
              "    }\n",
              "\n",
              "    .dataframe tbody tr th {\n",
              "        vertical-align: top;\n",
              "    }\n",
              "\n",
              "    .dataframe thead th {\n",
              "        text-align: right;\n",
              "    }\n",
              "</style>\n",
              "<table border=\"1\" class=\"dataframe\">\n",
              "  <thead>\n",
              "    <tr style=\"text-align: right;\">\n",
              "      <th></th>\n",
              "      <th>Unnamed: 0</th>\n",
              "      <th>id</th>\n",
              "      <th>price</th>\n",
              "      <th>bedrooms</th>\n",
              "      <th>bathrooms</th>\n",
              "      <th>sqft_living</th>\n",
              "      <th>sqft_lot</th>\n",
              "      <th>floors</th>\n",
              "      <th>waterfront</th>\n",
              "      <th>view</th>\n",
              "      <th>...</th>\n",
              "      <th>grade</th>\n",
              "      <th>sqft_above</th>\n",
              "      <th>sqft_basement</th>\n",
              "      <th>yr_built</th>\n",
              "      <th>yr_renovated</th>\n",
              "      <th>zipcode</th>\n",
              "      <th>lat</th>\n",
              "      <th>long</th>\n",
              "      <th>sqft_living15</th>\n",
              "      <th>sqft_lot15</th>\n",
              "    </tr>\n",
              "  </thead>\n",
              "  <tbody>\n",
              "    <tr>\n",
              "      <th>count</th>\n",
              "      <td>21613.00000</td>\n",
              "      <td>2.161300e+04</td>\n",
              "      <td>2.161300e+04</td>\n",
              "      <td>21600.000000</td>\n",
              "      <td>21603.000000</td>\n",
              "      <td>21613.000000</td>\n",
              "      <td>2.161300e+04</td>\n",
              "      <td>21613.000000</td>\n",
              "      <td>21613.000000</td>\n",
              "      <td>21613.000000</td>\n",
              "      <td>...</td>\n",
              "      <td>21613.000000</td>\n",
              "      <td>21613.000000</td>\n",
              "      <td>21613.000000</td>\n",
              "      <td>21613.000000</td>\n",
              "      <td>21613.000000</td>\n",
              "      <td>21613.000000</td>\n",
              "      <td>21613.000000</td>\n",
              "      <td>21613.000000</td>\n",
              "      <td>21613.000000</td>\n",
              "      <td>21613.000000</td>\n",
              "    </tr>\n",
              "    <tr>\n",
              "      <th>mean</th>\n",
              "      <td>10806.00000</td>\n",
              "      <td>4.580302e+09</td>\n",
              "      <td>5.400881e+05</td>\n",
              "      <td>3.372870</td>\n",
              "      <td>2.115736</td>\n",
              "      <td>2079.899736</td>\n",
              "      <td>1.510697e+04</td>\n",
              "      <td>1.494309</td>\n",
              "      <td>0.007542</td>\n",
              "      <td>0.234303</td>\n",
              "      <td>...</td>\n",
              "      <td>7.656873</td>\n",
              "      <td>1788.390691</td>\n",
              "      <td>291.509045</td>\n",
              "      <td>1971.005136</td>\n",
              "      <td>84.402258</td>\n",
              "      <td>98077.939805</td>\n",
              "      <td>47.560053</td>\n",
              "      <td>-122.213896</td>\n",
              "      <td>1986.552492</td>\n",
              "      <td>12768.455652</td>\n",
              "    </tr>\n",
              "    <tr>\n",
              "      <th>std</th>\n",
              "      <td>6239.28002</td>\n",
              "      <td>2.876566e+09</td>\n",
              "      <td>3.671272e+05</td>\n",
              "      <td>0.926657</td>\n",
              "      <td>0.768996</td>\n",
              "      <td>918.440897</td>\n",
              "      <td>4.142051e+04</td>\n",
              "      <td>0.539989</td>\n",
              "      <td>0.086517</td>\n",
              "      <td>0.766318</td>\n",
              "      <td>...</td>\n",
              "      <td>1.175459</td>\n",
              "      <td>828.090978</td>\n",
              "      <td>442.575043</td>\n",
              "      <td>29.373411</td>\n",
              "      <td>401.679240</td>\n",
              "      <td>53.505026</td>\n",
              "      <td>0.138564</td>\n",
              "      <td>0.140828</td>\n",
              "      <td>685.391304</td>\n",
              "      <td>27304.179631</td>\n",
              "    </tr>\n",
              "    <tr>\n",
              "      <th>min</th>\n",
              "      <td>0.00000</td>\n",
              "      <td>1.000102e+06</td>\n",
              "      <td>7.500000e+04</td>\n",
              "      <td>1.000000</td>\n",
              "      <td>0.500000</td>\n",
              "      <td>290.000000</td>\n",
              "      <td>5.200000e+02</td>\n",
              "      <td>1.000000</td>\n",
              "      <td>0.000000</td>\n",
              "      <td>0.000000</td>\n",
              "      <td>...</td>\n",
              "      <td>1.000000</td>\n",
              "      <td>290.000000</td>\n",
              "      <td>0.000000</td>\n",
              "      <td>1900.000000</td>\n",
              "      <td>0.000000</td>\n",
              "      <td>98001.000000</td>\n",
              "      <td>47.155900</td>\n",
              "      <td>-122.519000</td>\n",
              "      <td>399.000000</td>\n",
              "      <td>651.000000</td>\n",
              "    </tr>\n",
              "    <tr>\n",
              "      <th>25%</th>\n",
              "      <td>5403.00000</td>\n",
              "      <td>2.123049e+09</td>\n",
              "      <td>3.219500e+05</td>\n",
              "      <td>3.000000</td>\n",
              "      <td>1.750000</td>\n",
              "      <td>1427.000000</td>\n",
              "      <td>5.040000e+03</td>\n",
              "      <td>1.000000</td>\n",
              "      <td>0.000000</td>\n",
              "      <td>0.000000</td>\n",
              "      <td>...</td>\n",
              "      <td>7.000000</td>\n",
              "      <td>1190.000000</td>\n",
              "      <td>0.000000</td>\n",
              "      <td>1951.000000</td>\n",
              "      <td>0.000000</td>\n",
              "      <td>98033.000000</td>\n",
              "      <td>47.471000</td>\n",
              "      <td>-122.328000</td>\n",
              "      <td>1490.000000</td>\n",
              "      <td>5100.000000</td>\n",
              "    </tr>\n",
              "    <tr>\n",
              "      <th>50%</th>\n",
              "      <td>10806.00000</td>\n",
              "      <td>3.904930e+09</td>\n",
              "      <td>4.500000e+05</td>\n",
              "      <td>3.000000</td>\n",
              "      <td>2.250000</td>\n",
              "      <td>1910.000000</td>\n",
              "      <td>7.618000e+03</td>\n",
              "      <td>1.500000</td>\n",
              "      <td>0.000000</td>\n",
              "      <td>0.000000</td>\n",
              "      <td>...</td>\n",
              "      <td>7.000000</td>\n",
              "      <td>1560.000000</td>\n",
              "      <td>0.000000</td>\n",
              "      <td>1975.000000</td>\n",
              "      <td>0.000000</td>\n",
              "      <td>98065.000000</td>\n",
              "      <td>47.571800</td>\n",
              "      <td>-122.230000</td>\n",
              "      <td>1840.000000</td>\n",
              "      <td>7620.000000</td>\n",
              "    </tr>\n",
              "    <tr>\n",
              "      <th>75%</th>\n",
              "      <td>16209.00000</td>\n",
              "      <td>7.308900e+09</td>\n",
              "      <td>6.450000e+05</td>\n",
              "      <td>4.000000</td>\n",
              "      <td>2.500000</td>\n",
              "      <td>2550.000000</td>\n",
              "      <td>1.068800e+04</td>\n",
              "      <td>2.000000</td>\n",
              "      <td>0.000000</td>\n",
              "      <td>0.000000</td>\n",
              "      <td>...</td>\n",
              "      <td>8.000000</td>\n",
              "      <td>2210.000000</td>\n",
              "      <td>560.000000</td>\n",
              "      <td>1997.000000</td>\n",
              "      <td>0.000000</td>\n",
              "      <td>98118.000000</td>\n",
              "      <td>47.678000</td>\n",
              "      <td>-122.125000</td>\n",
              "      <td>2360.000000</td>\n",
              "      <td>10083.000000</td>\n",
              "    </tr>\n",
              "    <tr>\n",
              "      <th>max</th>\n",
              "      <td>21612.00000</td>\n",
              "      <td>9.900000e+09</td>\n",
              "      <td>7.700000e+06</td>\n",
              "      <td>33.000000</td>\n",
              "      <td>8.000000</td>\n",
              "      <td>13540.000000</td>\n",
              "      <td>1.651359e+06</td>\n",
              "      <td>3.500000</td>\n",
              "      <td>1.000000</td>\n",
              "      <td>4.000000</td>\n",
              "      <td>...</td>\n",
              "      <td>13.000000</td>\n",
              "      <td>9410.000000</td>\n",
              "      <td>4820.000000</td>\n",
              "      <td>2015.000000</td>\n",
              "      <td>2015.000000</td>\n",
              "      <td>98199.000000</td>\n",
              "      <td>47.777600</td>\n",
              "      <td>-121.315000</td>\n",
              "      <td>6210.000000</td>\n",
              "      <td>871200.000000</td>\n",
              "    </tr>\n",
              "  </tbody>\n",
              "</table>\n",
              "<p>8 rows × 21 columns</p>\n",
              "</div>\n",
              "    <div class=\"colab-df-buttons\">\n",
              "\n",
              "  <div class=\"colab-df-container\">\n",
              "    <button class=\"colab-df-convert\" onclick=\"convertToInteractive('df-47c769eb-fb7c-45a0-a2ce-0f4bbf7c1be7')\"\n",
              "            title=\"Convert this dataframe to an interactive table.\"\n",
              "            style=\"display:none;\">\n",
              "\n",
              "  <svg xmlns=\"http://www.w3.org/2000/svg\" height=\"24px\" viewBox=\"0 -960 960 960\">\n",
              "    <path d=\"M120-120v-720h720v720H120Zm60-500h600v-160H180v160Zm220 220h160v-160H400v160Zm0 220h160v-160H400v160ZM180-400h160v-160H180v160Zm440 0h160v-160H620v160ZM180-180h160v-160H180v160Zm440 0h160v-160H620v160Z\"/>\n",
              "  </svg>\n",
              "    </button>\n",
              "\n",
              "  <style>\n",
              "    .colab-df-container {\n",
              "      display:flex;\n",
              "      gap: 12px;\n",
              "    }\n",
              "\n",
              "    .colab-df-convert {\n",
              "      background-color: #E8F0FE;\n",
              "      border: none;\n",
              "      border-radius: 50%;\n",
              "      cursor: pointer;\n",
              "      display: none;\n",
              "      fill: #1967D2;\n",
              "      height: 32px;\n",
              "      padding: 0 0 0 0;\n",
              "      width: 32px;\n",
              "    }\n",
              "\n",
              "    .colab-df-convert:hover {\n",
              "      background-color: #E2EBFA;\n",
              "      box-shadow: 0px 1px 2px rgba(60, 64, 67, 0.3), 0px 1px 3px 1px rgba(60, 64, 67, 0.15);\n",
              "      fill: #174EA6;\n",
              "    }\n",
              "\n",
              "    .colab-df-buttons div {\n",
              "      margin-bottom: 4px;\n",
              "    }\n",
              "\n",
              "    [theme=dark] .colab-df-convert {\n",
              "      background-color: #3B4455;\n",
              "      fill: #D2E3FC;\n",
              "    }\n",
              "\n",
              "    [theme=dark] .colab-df-convert:hover {\n",
              "      background-color: #434B5C;\n",
              "      box-shadow: 0px 1px 3px 1px rgba(0, 0, 0, 0.15);\n",
              "      filter: drop-shadow(0px 1px 2px rgba(0, 0, 0, 0.3));\n",
              "      fill: #FFFFFF;\n",
              "    }\n",
              "  </style>\n",
              "\n",
              "    <script>\n",
              "      const buttonEl =\n",
              "        document.querySelector('#df-47c769eb-fb7c-45a0-a2ce-0f4bbf7c1be7 button.colab-df-convert');\n",
              "      buttonEl.style.display =\n",
              "        google.colab.kernel.accessAllowed ? 'block' : 'none';\n",
              "\n",
              "      async function convertToInteractive(key) {\n",
              "        const element = document.querySelector('#df-47c769eb-fb7c-45a0-a2ce-0f4bbf7c1be7');\n",
              "        const dataTable =\n",
              "          await google.colab.kernel.invokeFunction('convertToInteractive',\n",
              "                                                    [key], {});\n",
              "        if (!dataTable) return;\n",
              "\n",
              "        const docLinkHtml = 'Like what you see? Visit the ' +\n",
              "          '<a target=\"_blank\" href=https://colab.research.google.com/notebooks/data_table.ipynb>data table notebook</a>'\n",
              "          + ' to learn more about interactive tables.';\n",
              "        element.innerHTML = '';\n",
              "        dataTable['output_type'] = 'display_data';\n",
              "        await google.colab.output.renderOutput(dataTable, element);\n",
              "        const docLink = document.createElement('div');\n",
              "        docLink.innerHTML = docLinkHtml;\n",
              "        element.appendChild(docLink);\n",
              "      }\n",
              "    </script>\n",
              "  </div>\n",
              "\n",
              "\n",
              "<div id=\"df-d876b663-610d-47fb-b2c5-949ad840050e\">\n",
              "  <button class=\"colab-df-quickchart\" onclick=\"quickchart('df-d876b663-610d-47fb-b2c5-949ad840050e')\"\n",
              "            title=\"Suggest charts\"\n",
              "            style=\"display:none;\">\n",
              "\n",
              "<svg xmlns=\"http://www.w3.org/2000/svg\" height=\"24px\"viewBox=\"0 0 24 24\"\n",
              "     width=\"24px\">\n",
              "    <g>\n",
              "        <path d=\"M19 3H5c-1.1 0-2 .9-2 2v14c0 1.1.9 2 2 2h14c1.1 0 2-.9 2-2V5c0-1.1-.9-2-2-2zM9 17H7v-7h2v7zm4 0h-2V7h2v10zm4 0h-2v-4h2v4z\"/>\n",
              "    </g>\n",
              "</svg>\n",
              "  </button>\n",
              "\n",
              "<style>\n",
              "  .colab-df-quickchart {\n",
              "      --bg-color: #E8F0FE;\n",
              "      --fill-color: #1967D2;\n",
              "      --hover-bg-color: #E2EBFA;\n",
              "      --hover-fill-color: #174EA6;\n",
              "      --disabled-fill-color: #AAA;\n",
              "      --disabled-bg-color: #DDD;\n",
              "  }\n",
              "\n",
              "  [theme=dark] .colab-df-quickchart {\n",
              "      --bg-color: #3B4455;\n",
              "      --fill-color: #D2E3FC;\n",
              "      --hover-bg-color: #434B5C;\n",
              "      --hover-fill-color: #FFFFFF;\n",
              "      --disabled-bg-color: #3B4455;\n",
              "      --disabled-fill-color: #666;\n",
              "  }\n",
              "\n",
              "  .colab-df-quickchart {\n",
              "    background-color: var(--bg-color);\n",
              "    border: none;\n",
              "    border-radius: 50%;\n",
              "    cursor: pointer;\n",
              "    display: none;\n",
              "    fill: var(--fill-color);\n",
              "    height: 32px;\n",
              "    padding: 0;\n",
              "    width: 32px;\n",
              "  }\n",
              "\n",
              "  .colab-df-quickchart:hover {\n",
              "    background-color: var(--hover-bg-color);\n",
              "    box-shadow: 0 1px 2px rgba(60, 64, 67, 0.3), 0 1px 3px 1px rgba(60, 64, 67, 0.15);\n",
              "    fill: var(--button-hover-fill-color);\n",
              "  }\n",
              "\n",
              "  .colab-df-quickchart-complete:disabled,\n",
              "  .colab-df-quickchart-complete:disabled:hover {\n",
              "    background-color: var(--disabled-bg-color);\n",
              "    fill: var(--disabled-fill-color);\n",
              "    box-shadow: none;\n",
              "  }\n",
              "\n",
              "  .colab-df-spinner {\n",
              "    border: 2px solid var(--fill-color);\n",
              "    border-color: transparent;\n",
              "    border-bottom-color: var(--fill-color);\n",
              "    animation:\n",
              "      spin 1s steps(1) infinite;\n",
              "  }\n",
              "\n",
              "  @keyframes spin {\n",
              "    0% {\n",
              "      border-color: transparent;\n",
              "      border-bottom-color: var(--fill-color);\n",
              "      border-left-color: var(--fill-color);\n",
              "    }\n",
              "    20% {\n",
              "      border-color: transparent;\n",
              "      border-left-color: var(--fill-color);\n",
              "      border-top-color: var(--fill-color);\n",
              "    }\n",
              "    30% {\n",
              "      border-color: transparent;\n",
              "      border-left-color: var(--fill-color);\n",
              "      border-top-color: var(--fill-color);\n",
              "      border-right-color: var(--fill-color);\n",
              "    }\n",
              "    40% {\n",
              "      border-color: transparent;\n",
              "      border-right-color: var(--fill-color);\n",
              "      border-top-color: var(--fill-color);\n",
              "    }\n",
              "    60% {\n",
              "      border-color: transparent;\n",
              "      border-right-color: var(--fill-color);\n",
              "    }\n",
              "    80% {\n",
              "      border-color: transparent;\n",
              "      border-right-color: var(--fill-color);\n",
              "      border-bottom-color: var(--fill-color);\n",
              "    }\n",
              "    90% {\n",
              "      border-color: transparent;\n",
              "      border-bottom-color: var(--fill-color);\n",
              "    }\n",
              "  }\n",
              "</style>\n",
              "\n",
              "  <script>\n",
              "    async function quickchart(key) {\n",
              "      const quickchartButtonEl =\n",
              "        document.querySelector('#' + key + ' button');\n",
              "      quickchartButtonEl.disabled = true;  // To prevent multiple clicks.\n",
              "      quickchartButtonEl.classList.add('colab-df-spinner');\n",
              "      try {\n",
              "        const charts = await google.colab.kernel.invokeFunction(\n",
              "            'suggestCharts', [key], {});\n",
              "      } catch (error) {\n",
              "        console.error('Error during call to suggestCharts:', error);\n",
              "      }\n",
              "      quickchartButtonEl.classList.remove('colab-df-spinner');\n",
              "      quickchartButtonEl.classList.add('colab-df-quickchart-complete');\n",
              "    }\n",
              "    (() => {\n",
              "      let quickchartButtonEl =\n",
              "        document.querySelector('#df-d876b663-610d-47fb-b2c5-949ad840050e button');\n",
              "      quickchartButtonEl.style.display =\n",
              "        google.colab.kernel.accessAllowed ? 'block' : 'none';\n",
              "    })();\n",
              "  </script>\n",
              "</div>\n",
              "    </div>\n",
              "  </div>\n"
            ]
          },
          "metadata": {},
          "execution_count": 23
        }
      ],
      "source": [
        "df.describe()"
      ]
    },
    {
      "cell_type": "markdown",
      "metadata": {
        "id": "I2Vai77JKBjt"
      },
      "source": [
        "# Module 2: Data Wrangling\n"
      ]
    },
    {
      "cell_type": "markdown",
      "metadata": {
        "id": "3ttz8PkKKBjt"
      },
      "source": [
        "### Question 2\n",
        "\n",
        "Drop the columns <code>\"id\"</code>  and <code>\"Unnamed: 0\"</code> from axis 1 using the method <code>drop()</code>, then use the method <code>describe()</code> to obtain a statistical summary of the data. Take a screenshot and submit it, make sure the <code>inplace</code> parameter is set to <code>True</code>\n"
      ]
    },
    {
      "cell_type": "code",
      "execution_count": 24,
      "metadata": {
        "jupyter": {
          "outputs_hidden": false
        },
        "colab": {
          "base_uri": "https://localhost:8080/",
          "height": 320
        },
        "id": "DaYgCsmsKBju",
        "outputId": "083754cc-d998-4afb-c96b-7017260ed5cf"
      },
      "outputs": [
        {
          "output_type": "execute_result",
          "data": {
            "text/plain": [
              "              price      bedrooms     bathrooms   sqft_living      sqft_lot  \\\n",
              "count  2.161300e+04  21600.000000  21603.000000  21613.000000  2.161300e+04   \n",
              "mean   5.400881e+05      3.372870      2.115736   2079.899736  1.510697e+04   \n",
              "std    3.671272e+05      0.926657      0.768996    918.440897  4.142051e+04   \n",
              "min    7.500000e+04      1.000000      0.500000    290.000000  5.200000e+02   \n",
              "25%    3.219500e+05      3.000000      1.750000   1427.000000  5.040000e+03   \n",
              "50%    4.500000e+05      3.000000      2.250000   1910.000000  7.618000e+03   \n",
              "75%    6.450000e+05      4.000000      2.500000   2550.000000  1.068800e+04   \n",
              "max    7.700000e+06     33.000000      8.000000  13540.000000  1.651359e+06   \n",
              "\n",
              "             floors    waterfront          view     condition         grade  \\\n",
              "count  21613.000000  21613.000000  21613.000000  21613.000000  21613.000000   \n",
              "mean       1.494309      0.007542      0.234303      3.409430      7.656873   \n",
              "std        0.539989      0.086517      0.766318      0.650743      1.175459   \n",
              "min        1.000000      0.000000      0.000000      1.000000      1.000000   \n",
              "25%        1.000000      0.000000      0.000000      3.000000      7.000000   \n",
              "50%        1.500000      0.000000      0.000000      3.000000      7.000000   \n",
              "75%        2.000000      0.000000      0.000000      4.000000      8.000000   \n",
              "max        3.500000      1.000000      4.000000      5.000000     13.000000   \n",
              "\n",
              "         sqft_above  sqft_basement      yr_built  yr_renovated       zipcode  \\\n",
              "count  21613.000000   21613.000000  21613.000000  21613.000000  21613.000000   \n",
              "mean    1788.390691     291.509045   1971.005136     84.402258  98077.939805   \n",
              "std      828.090978     442.575043     29.373411    401.679240     53.505026   \n",
              "min      290.000000       0.000000   1900.000000      0.000000  98001.000000   \n",
              "25%     1190.000000       0.000000   1951.000000      0.000000  98033.000000   \n",
              "50%     1560.000000       0.000000   1975.000000      0.000000  98065.000000   \n",
              "75%     2210.000000     560.000000   1997.000000      0.000000  98118.000000   \n",
              "max     9410.000000    4820.000000   2015.000000   2015.000000  98199.000000   \n",
              "\n",
              "                lat          long  sqft_living15     sqft_lot15  \n",
              "count  21613.000000  21613.000000   21613.000000   21613.000000  \n",
              "mean      47.560053   -122.213896    1986.552492   12768.455652  \n",
              "std        0.138564      0.140828     685.391304   27304.179631  \n",
              "min       47.155900   -122.519000     399.000000     651.000000  \n",
              "25%       47.471000   -122.328000    1490.000000    5100.000000  \n",
              "50%       47.571800   -122.230000    1840.000000    7620.000000  \n",
              "75%       47.678000   -122.125000    2360.000000   10083.000000  \n",
              "max       47.777600   -121.315000    6210.000000  871200.000000  "
            ],
            "text/html": [
              "\n",
              "  <div id=\"df-0161c3c6-dcff-42c4-90ef-c0d50e820002\" class=\"colab-df-container\">\n",
              "    <div>\n",
              "<style scoped>\n",
              "    .dataframe tbody tr th:only-of-type {\n",
              "        vertical-align: middle;\n",
              "    }\n",
              "\n",
              "    .dataframe tbody tr th {\n",
              "        vertical-align: top;\n",
              "    }\n",
              "\n",
              "    .dataframe thead th {\n",
              "        text-align: right;\n",
              "    }\n",
              "</style>\n",
              "<table border=\"1\" class=\"dataframe\">\n",
              "  <thead>\n",
              "    <tr style=\"text-align: right;\">\n",
              "      <th></th>\n",
              "      <th>price</th>\n",
              "      <th>bedrooms</th>\n",
              "      <th>bathrooms</th>\n",
              "      <th>sqft_living</th>\n",
              "      <th>sqft_lot</th>\n",
              "      <th>floors</th>\n",
              "      <th>waterfront</th>\n",
              "      <th>view</th>\n",
              "      <th>condition</th>\n",
              "      <th>grade</th>\n",
              "      <th>sqft_above</th>\n",
              "      <th>sqft_basement</th>\n",
              "      <th>yr_built</th>\n",
              "      <th>yr_renovated</th>\n",
              "      <th>zipcode</th>\n",
              "      <th>lat</th>\n",
              "      <th>long</th>\n",
              "      <th>sqft_living15</th>\n",
              "      <th>sqft_lot15</th>\n",
              "    </tr>\n",
              "  </thead>\n",
              "  <tbody>\n",
              "    <tr>\n",
              "      <th>count</th>\n",
              "      <td>2.161300e+04</td>\n",
              "      <td>21600.000000</td>\n",
              "      <td>21603.000000</td>\n",
              "      <td>21613.000000</td>\n",
              "      <td>2.161300e+04</td>\n",
              "      <td>21613.000000</td>\n",
              "      <td>21613.000000</td>\n",
              "      <td>21613.000000</td>\n",
              "      <td>21613.000000</td>\n",
              "      <td>21613.000000</td>\n",
              "      <td>21613.000000</td>\n",
              "      <td>21613.000000</td>\n",
              "      <td>21613.000000</td>\n",
              "      <td>21613.000000</td>\n",
              "      <td>21613.000000</td>\n",
              "      <td>21613.000000</td>\n",
              "      <td>21613.000000</td>\n",
              "      <td>21613.000000</td>\n",
              "      <td>21613.000000</td>\n",
              "    </tr>\n",
              "    <tr>\n",
              "      <th>mean</th>\n",
              "      <td>5.400881e+05</td>\n",
              "      <td>3.372870</td>\n",
              "      <td>2.115736</td>\n",
              "      <td>2079.899736</td>\n",
              "      <td>1.510697e+04</td>\n",
              "      <td>1.494309</td>\n",
              "      <td>0.007542</td>\n",
              "      <td>0.234303</td>\n",
              "      <td>3.409430</td>\n",
              "      <td>7.656873</td>\n",
              "      <td>1788.390691</td>\n",
              "      <td>291.509045</td>\n",
              "      <td>1971.005136</td>\n",
              "      <td>84.402258</td>\n",
              "      <td>98077.939805</td>\n",
              "      <td>47.560053</td>\n",
              "      <td>-122.213896</td>\n",
              "      <td>1986.552492</td>\n",
              "      <td>12768.455652</td>\n",
              "    </tr>\n",
              "    <tr>\n",
              "      <th>std</th>\n",
              "      <td>3.671272e+05</td>\n",
              "      <td>0.926657</td>\n",
              "      <td>0.768996</td>\n",
              "      <td>918.440897</td>\n",
              "      <td>4.142051e+04</td>\n",
              "      <td>0.539989</td>\n",
              "      <td>0.086517</td>\n",
              "      <td>0.766318</td>\n",
              "      <td>0.650743</td>\n",
              "      <td>1.175459</td>\n",
              "      <td>828.090978</td>\n",
              "      <td>442.575043</td>\n",
              "      <td>29.373411</td>\n",
              "      <td>401.679240</td>\n",
              "      <td>53.505026</td>\n",
              "      <td>0.138564</td>\n",
              "      <td>0.140828</td>\n",
              "      <td>685.391304</td>\n",
              "      <td>27304.179631</td>\n",
              "    </tr>\n",
              "    <tr>\n",
              "      <th>min</th>\n",
              "      <td>7.500000e+04</td>\n",
              "      <td>1.000000</td>\n",
              "      <td>0.500000</td>\n",
              "      <td>290.000000</td>\n",
              "      <td>5.200000e+02</td>\n",
              "      <td>1.000000</td>\n",
              "      <td>0.000000</td>\n",
              "      <td>0.000000</td>\n",
              "      <td>1.000000</td>\n",
              "      <td>1.000000</td>\n",
              "      <td>290.000000</td>\n",
              "      <td>0.000000</td>\n",
              "      <td>1900.000000</td>\n",
              "      <td>0.000000</td>\n",
              "      <td>98001.000000</td>\n",
              "      <td>47.155900</td>\n",
              "      <td>-122.519000</td>\n",
              "      <td>399.000000</td>\n",
              "      <td>651.000000</td>\n",
              "    </tr>\n",
              "    <tr>\n",
              "      <th>25%</th>\n",
              "      <td>3.219500e+05</td>\n",
              "      <td>3.000000</td>\n",
              "      <td>1.750000</td>\n",
              "      <td>1427.000000</td>\n",
              "      <td>5.040000e+03</td>\n",
              "      <td>1.000000</td>\n",
              "      <td>0.000000</td>\n",
              "      <td>0.000000</td>\n",
              "      <td>3.000000</td>\n",
              "      <td>7.000000</td>\n",
              "      <td>1190.000000</td>\n",
              "      <td>0.000000</td>\n",
              "      <td>1951.000000</td>\n",
              "      <td>0.000000</td>\n",
              "      <td>98033.000000</td>\n",
              "      <td>47.471000</td>\n",
              "      <td>-122.328000</td>\n",
              "      <td>1490.000000</td>\n",
              "      <td>5100.000000</td>\n",
              "    </tr>\n",
              "    <tr>\n",
              "      <th>50%</th>\n",
              "      <td>4.500000e+05</td>\n",
              "      <td>3.000000</td>\n",
              "      <td>2.250000</td>\n",
              "      <td>1910.000000</td>\n",
              "      <td>7.618000e+03</td>\n",
              "      <td>1.500000</td>\n",
              "      <td>0.000000</td>\n",
              "      <td>0.000000</td>\n",
              "      <td>3.000000</td>\n",
              "      <td>7.000000</td>\n",
              "      <td>1560.000000</td>\n",
              "      <td>0.000000</td>\n",
              "      <td>1975.000000</td>\n",
              "      <td>0.000000</td>\n",
              "      <td>98065.000000</td>\n",
              "      <td>47.571800</td>\n",
              "      <td>-122.230000</td>\n",
              "      <td>1840.000000</td>\n",
              "      <td>7620.000000</td>\n",
              "    </tr>\n",
              "    <tr>\n",
              "      <th>75%</th>\n",
              "      <td>6.450000e+05</td>\n",
              "      <td>4.000000</td>\n",
              "      <td>2.500000</td>\n",
              "      <td>2550.000000</td>\n",
              "      <td>1.068800e+04</td>\n",
              "      <td>2.000000</td>\n",
              "      <td>0.000000</td>\n",
              "      <td>0.000000</td>\n",
              "      <td>4.000000</td>\n",
              "      <td>8.000000</td>\n",
              "      <td>2210.000000</td>\n",
              "      <td>560.000000</td>\n",
              "      <td>1997.000000</td>\n",
              "      <td>0.000000</td>\n",
              "      <td>98118.000000</td>\n",
              "      <td>47.678000</td>\n",
              "      <td>-122.125000</td>\n",
              "      <td>2360.000000</td>\n",
              "      <td>10083.000000</td>\n",
              "    </tr>\n",
              "    <tr>\n",
              "      <th>max</th>\n",
              "      <td>7.700000e+06</td>\n",
              "      <td>33.000000</td>\n",
              "      <td>8.000000</td>\n",
              "      <td>13540.000000</td>\n",
              "      <td>1.651359e+06</td>\n",
              "      <td>3.500000</td>\n",
              "      <td>1.000000</td>\n",
              "      <td>4.000000</td>\n",
              "      <td>5.000000</td>\n",
              "      <td>13.000000</td>\n",
              "      <td>9410.000000</td>\n",
              "      <td>4820.000000</td>\n",
              "      <td>2015.000000</td>\n",
              "      <td>2015.000000</td>\n",
              "      <td>98199.000000</td>\n",
              "      <td>47.777600</td>\n",
              "      <td>-121.315000</td>\n",
              "      <td>6210.000000</td>\n",
              "      <td>871200.000000</td>\n",
              "    </tr>\n",
              "  </tbody>\n",
              "</table>\n",
              "</div>\n",
              "    <div class=\"colab-df-buttons\">\n",
              "\n",
              "  <div class=\"colab-df-container\">\n",
              "    <button class=\"colab-df-convert\" onclick=\"convertToInteractive('df-0161c3c6-dcff-42c4-90ef-c0d50e820002')\"\n",
              "            title=\"Convert this dataframe to an interactive table.\"\n",
              "            style=\"display:none;\">\n",
              "\n",
              "  <svg xmlns=\"http://www.w3.org/2000/svg\" height=\"24px\" viewBox=\"0 -960 960 960\">\n",
              "    <path d=\"M120-120v-720h720v720H120Zm60-500h600v-160H180v160Zm220 220h160v-160H400v160Zm0 220h160v-160H400v160ZM180-400h160v-160H180v160Zm440 0h160v-160H620v160ZM180-180h160v-160H180v160Zm440 0h160v-160H620v160Z\"/>\n",
              "  </svg>\n",
              "    </button>\n",
              "\n",
              "  <style>\n",
              "    .colab-df-container {\n",
              "      display:flex;\n",
              "      gap: 12px;\n",
              "    }\n",
              "\n",
              "    .colab-df-convert {\n",
              "      background-color: #E8F0FE;\n",
              "      border: none;\n",
              "      border-radius: 50%;\n",
              "      cursor: pointer;\n",
              "      display: none;\n",
              "      fill: #1967D2;\n",
              "      height: 32px;\n",
              "      padding: 0 0 0 0;\n",
              "      width: 32px;\n",
              "    }\n",
              "\n",
              "    .colab-df-convert:hover {\n",
              "      background-color: #E2EBFA;\n",
              "      box-shadow: 0px 1px 2px rgba(60, 64, 67, 0.3), 0px 1px 3px 1px rgba(60, 64, 67, 0.15);\n",
              "      fill: #174EA6;\n",
              "    }\n",
              "\n",
              "    .colab-df-buttons div {\n",
              "      margin-bottom: 4px;\n",
              "    }\n",
              "\n",
              "    [theme=dark] .colab-df-convert {\n",
              "      background-color: #3B4455;\n",
              "      fill: #D2E3FC;\n",
              "    }\n",
              "\n",
              "    [theme=dark] .colab-df-convert:hover {\n",
              "      background-color: #434B5C;\n",
              "      box-shadow: 0px 1px 3px 1px rgba(0, 0, 0, 0.15);\n",
              "      filter: drop-shadow(0px 1px 2px rgba(0, 0, 0, 0.3));\n",
              "      fill: #FFFFFF;\n",
              "    }\n",
              "  </style>\n",
              "\n",
              "    <script>\n",
              "      const buttonEl =\n",
              "        document.querySelector('#df-0161c3c6-dcff-42c4-90ef-c0d50e820002 button.colab-df-convert');\n",
              "      buttonEl.style.display =\n",
              "        google.colab.kernel.accessAllowed ? 'block' : 'none';\n",
              "\n",
              "      async function convertToInteractive(key) {\n",
              "        const element = document.querySelector('#df-0161c3c6-dcff-42c4-90ef-c0d50e820002');\n",
              "        const dataTable =\n",
              "          await google.colab.kernel.invokeFunction('convertToInteractive',\n",
              "                                                    [key], {});\n",
              "        if (!dataTable) return;\n",
              "\n",
              "        const docLinkHtml = 'Like what you see? Visit the ' +\n",
              "          '<a target=\"_blank\" href=https://colab.research.google.com/notebooks/data_table.ipynb>data table notebook</a>'\n",
              "          + ' to learn more about interactive tables.';\n",
              "        element.innerHTML = '';\n",
              "        dataTable['output_type'] = 'display_data';\n",
              "        await google.colab.output.renderOutput(dataTable, element);\n",
              "        const docLink = document.createElement('div');\n",
              "        docLink.innerHTML = docLinkHtml;\n",
              "        element.appendChild(docLink);\n",
              "      }\n",
              "    </script>\n",
              "  </div>\n",
              "\n",
              "\n",
              "<div id=\"df-68dfbce4-7e54-452f-85d8-8170745f2d3f\">\n",
              "  <button class=\"colab-df-quickchart\" onclick=\"quickchart('df-68dfbce4-7e54-452f-85d8-8170745f2d3f')\"\n",
              "            title=\"Suggest charts\"\n",
              "            style=\"display:none;\">\n",
              "\n",
              "<svg xmlns=\"http://www.w3.org/2000/svg\" height=\"24px\"viewBox=\"0 0 24 24\"\n",
              "     width=\"24px\">\n",
              "    <g>\n",
              "        <path d=\"M19 3H5c-1.1 0-2 .9-2 2v14c0 1.1.9 2 2 2h14c1.1 0 2-.9 2-2V5c0-1.1-.9-2-2-2zM9 17H7v-7h2v7zm4 0h-2V7h2v10zm4 0h-2v-4h2v4z\"/>\n",
              "    </g>\n",
              "</svg>\n",
              "  </button>\n",
              "\n",
              "<style>\n",
              "  .colab-df-quickchart {\n",
              "      --bg-color: #E8F0FE;\n",
              "      --fill-color: #1967D2;\n",
              "      --hover-bg-color: #E2EBFA;\n",
              "      --hover-fill-color: #174EA6;\n",
              "      --disabled-fill-color: #AAA;\n",
              "      --disabled-bg-color: #DDD;\n",
              "  }\n",
              "\n",
              "  [theme=dark] .colab-df-quickchart {\n",
              "      --bg-color: #3B4455;\n",
              "      --fill-color: #D2E3FC;\n",
              "      --hover-bg-color: #434B5C;\n",
              "      --hover-fill-color: #FFFFFF;\n",
              "      --disabled-bg-color: #3B4455;\n",
              "      --disabled-fill-color: #666;\n",
              "  }\n",
              "\n",
              "  .colab-df-quickchart {\n",
              "    background-color: var(--bg-color);\n",
              "    border: none;\n",
              "    border-radius: 50%;\n",
              "    cursor: pointer;\n",
              "    display: none;\n",
              "    fill: var(--fill-color);\n",
              "    height: 32px;\n",
              "    padding: 0;\n",
              "    width: 32px;\n",
              "  }\n",
              "\n",
              "  .colab-df-quickchart:hover {\n",
              "    background-color: var(--hover-bg-color);\n",
              "    box-shadow: 0 1px 2px rgba(60, 64, 67, 0.3), 0 1px 3px 1px rgba(60, 64, 67, 0.15);\n",
              "    fill: var(--button-hover-fill-color);\n",
              "  }\n",
              "\n",
              "  .colab-df-quickchart-complete:disabled,\n",
              "  .colab-df-quickchart-complete:disabled:hover {\n",
              "    background-color: var(--disabled-bg-color);\n",
              "    fill: var(--disabled-fill-color);\n",
              "    box-shadow: none;\n",
              "  }\n",
              "\n",
              "  .colab-df-spinner {\n",
              "    border: 2px solid var(--fill-color);\n",
              "    border-color: transparent;\n",
              "    border-bottom-color: var(--fill-color);\n",
              "    animation:\n",
              "      spin 1s steps(1) infinite;\n",
              "  }\n",
              "\n",
              "  @keyframes spin {\n",
              "    0% {\n",
              "      border-color: transparent;\n",
              "      border-bottom-color: var(--fill-color);\n",
              "      border-left-color: var(--fill-color);\n",
              "    }\n",
              "    20% {\n",
              "      border-color: transparent;\n",
              "      border-left-color: var(--fill-color);\n",
              "      border-top-color: var(--fill-color);\n",
              "    }\n",
              "    30% {\n",
              "      border-color: transparent;\n",
              "      border-left-color: var(--fill-color);\n",
              "      border-top-color: var(--fill-color);\n",
              "      border-right-color: var(--fill-color);\n",
              "    }\n",
              "    40% {\n",
              "      border-color: transparent;\n",
              "      border-right-color: var(--fill-color);\n",
              "      border-top-color: var(--fill-color);\n",
              "    }\n",
              "    60% {\n",
              "      border-color: transparent;\n",
              "      border-right-color: var(--fill-color);\n",
              "    }\n",
              "    80% {\n",
              "      border-color: transparent;\n",
              "      border-right-color: var(--fill-color);\n",
              "      border-bottom-color: var(--fill-color);\n",
              "    }\n",
              "    90% {\n",
              "      border-color: transparent;\n",
              "      border-bottom-color: var(--fill-color);\n",
              "    }\n",
              "  }\n",
              "</style>\n",
              "\n",
              "  <script>\n",
              "    async function quickchart(key) {\n",
              "      const quickchartButtonEl =\n",
              "        document.querySelector('#' + key + ' button');\n",
              "      quickchartButtonEl.disabled = true;  // To prevent multiple clicks.\n",
              "      quickchartButtonEl.classList.add('colab-df-spinner');\n",
              "      try {\n",
              "        const charts = await google.colab.kernel.invokeFunction(\n",
              "            'suggestCharts', [key], {});\n",
              "      } catch (error) {\n",
              "        console.error('Error during call to suggestCharts:', error);\n",
              "      }\n",
              "      quickchartButtonEl.classList.remove('colab-df-spinner');\n",
              "      quickchartButtonEl.classList.add('colab-df-quickchart-complete');\n",
              "    }\n",
              "    (() => {\n",
              "      let quickchartButtonEl =\n",
              "        document.querySelector('#df-68dfbce4-7e54-452f-85d8-8170745f2d3f button');\n",
              "      quickchartButtonEl.style.display =\n",
              "        google.colab.kernel.accessAllowed ? 'block' : 'none';\n",
              "    })();\n",
              "  </script>\n",
              "</div>\n",
              "    </div>\n",
              "  </div>\n"
            ]
          },
          "metadata": {},
          "execution_count": 24
        }
      ],
      "source": [
        "df.drop(['id','Unnamed: 0'], axis=1, inplace=True)\n",
        "df.describe()"
      ]
    },
    {
      "cell_type": "markdown",
      "metadata": {
        "id": "qYRN5jKdKBj2"
      },
      "source": [
        "We can see we have missing values for the columns <code> bedrooms</code>  and <code> bathrooms </code>\n"
      ]
    },
    {
      "cell_type": "code",
      "execution_count": 27,
      "metadata": {
        "jupyter": {
          "outputs_hidden": false
        },
        "colab": {
          "base_uri": "https://localhost:8080/"
        },
        "id": "dttRtYmpKBj3",
        "outputId": "8e28a043-6a76-4572-91fb-499169f8b0c5"
      },
      "outputs": [
        {
          "output_type": "stream",
          "name": "stdout",
          "text": [
            "number of NaN values for the column bedrooms : 13\n",
            "number of NaN values for the column bathrooms : 10\n"
          ]
        }
      ],
      "source": [
        "print(\"number of NaN values for the column bedrooms :\", df['bedrooms'].isnull().sum())\n",
        "print(\"number of NaN values for the column bathrooms :\", df['bathrooms'].isnull().sum())\n"
      ]
    },
    {
      "cell_type": "markdown",
      "metadata": {
        "id": "SFhmiLPUKBj3"
      },
      "source": [
        "We can replace the missing values of the column <code>'bedrooms'</code> with the mean of the column  <code>'bedrooms' </code> using the method <code>replace()</code>. Don't forget to set the <code>inplace</code> parameter to <code>True</code>\n"
      ]
    },
    {
      "cell_type": "code",
      "execution_count": 30,
      "metadata": {
        "id": "Dt6098jrKBj3"
      },
      "outputs": [],
      "source": [
        "mean=df['bedrooms'].mean()\n",
        "df['bedrooms'].replace(np.nan,mean, inplace=True)\n",
        "#df['bedrooms'].fillna(mean, inplace=True) we can also execute the below line instead of the above"
      ]
    },
    {
      "cell_type": "markdown",
      "metadata": {
        "id": "31JnpTK4KBj4"
      },
      "source": [
        "We also replace the missing values of the column <code>'bathrooms'</code> with the mean of the column  <code>'bathrooms' </code> using the method <code>replace()</code>. Don't forget to set the <code> inplace </code>  parameter top <code> True </code>\n"
      ]
    },
    {
      "cell_type": "code",
      "execution_count": 31,
      "metadata": {
        "id": "0xpuEBYAKBj4"
      },
      "outputs": [],
      "source": [
        "mean=df['bathrooms'].mean()\n",
        "df['bathrooms'].replace(np.nan,mean, inplace=True)"
      ]
    },
    {
      "cell_type": "code",
      "execution_count": 32,
      "metadata": {
        "jupyter": {
          "outputs_hidden": false
        },
        "colab": {
          "base_uri": "https://localhost:8080/"
        },
        "id": "4NzfcbdWKBj4",
        "outputId": "abadc459-72d0-4f31-a13a-3938b13b70fe"
      },
      "outputs": [
        {
          "output_type": "stream",
          "name": "stdout",
          "text": [
            "number of NaN values for the column bedrooms : 0\n",
            "number of NaN values for the column bathrooms : 0\n"
          ]
        }
      ],
      "source": [
        "print(\"number of NaN values for the column bedrooms :\", df['bedrooms'].isnull().sum())\n",
        "print(\"number of NaN values for the column bathrooms :\", df['bathrooms'].isnull().sum())"
      ]
    },
    {
      "cell_type": "markdown",
      "metadata": {
        "id": "ymfhUBpeKBj5"
      },
      "source": [
        "# Module 3: Exploratory Data Analysis\n"
      ]
    },
    {
      "cell_type": "markdown",
      "metadata": {
        "id": "a0SWUUzYKBj5"
      },
      "source": [
        "### Question 3\n",
        "\n",
        "Use the method <code>value_counts</code> to count the number of houses with unique floor values, use the method <code>.to_frame()</code> to convert it to a dataframe.\n"
      ]
    },
    {
      "cell_type": "code",
      "execution_count": 33,
      "metadata": {
        "jupyter": {
          "outputs_hidden": false
        },
        "colab": {
          "base_uri": "https://localhost:8080/",
          "height": 574
        },
        "id": "H9gRRkWMKBj5",
        "outputId": "5e0a11dc-13d9-4fe4-a35b-36d578ca2605"
      },
      "outputs": [
        {
          "output_type": "execute_result",
          "data": {
            "text/plain": [
              "     floors\n",
              "1.0   10680\n",
              "2.0    8241\n",
              "1.5    1910\n",
              "3.0     613\n",
              "2.5     161\n",
              "3.5       8"
            ],
            "text/html": [
              "\n",
              "  <div id=\"df-25999f87-9be5-4fbf-bd67-eb4eae9f5e19\" class=\"colab-df-container\">\n",
              "    <div>\n",
              "<style scoped>\n",
              "    .dataframe tbody tr th:only-of-type {\n",
              "        vertical-align: middle;\n",
              "    }\n",
              "\n",
              "    .dataframe tbody tr th {\n",
              "        vertical-align: top;\n",
              "    }\n",
              "\n",
              "    .dataframe thead th {\n",
              "        text-align: right;\n",
              "    }\n",
              "</style>\n",
              "<table border=\"1\" class=\"dataframe\">\n",
              "  <thead>\n",
              "    <tr style=\"text-align: right;\">\n",
              "      <th></th>\n",
              "      <th>floors</th>\n",
              "    </tr>\n",
              "  </thead>\n",
              "  <tbody>\n",
              "    <tr>\n",
              "      <th>1.0</th>\n",
              "      <td>10680</td>\n",
              "    </tr>\n",
              "    <tr>\n",
              "      <th>2.0</th>\n",
              "      <td>8241</td>\n",
              "    </tr>\n",
              "    <tr>\n",
              "      <th>1.5</th>\n",
              "      <td>1910</td>\n",
              "    </tr>\n",
              "    <tr>\n",
              "      <th>3.0</th>\n",
              "      <td>613</td>\n",
              "    </tr>\n",
              "    <tr>\n",
              "      <th>2.5</th>\n",
              "      <td>161</td>\n",
              "    </tr>\n",
              "    <tr>\n",
              "      <th>3.5</th>\n",
              "      <td>8</td>\n",
              "    </tr>\n",
              "  </tbody>\n",
              "</table>\n",
              "</div>\n",
              "    <div class=\"colab-df-buttons\">\n",
              "\n",
              "  <div class=\"colab-df-container\">\n",
              "    <button class=\"colab-df-convert\" onclick=\"convertToInteractive('df-25999f87-9be5-4fbf-bd67-eb4eae9f5e19')\"\n",
              "            title=\"Convert this dataframe to an interactive table.\"\n",
              "            style=\"display:none;\">\n",
              "\n",
              "  <svg xmlns=\"http://www.w3.org/2000/svg\" height=\"24px\" viewBox=\"0 -960 960 960\">\n",
              "    <path d=\"M120-120v-720h720v720H120Zm60-500h600v-160H180v160Zm220 220h160v-160H400v160Zm0 220h160v-160H400v160ZM180-400h160v-160H180v160Zm440 0h160v-160H620v160ZM180-180h160v-160H180v160Zm440 0h160v-160H620v160Z\"/>\n",
              "  </svg>\n",
              "    </button>\n",
              "\n",
              "  <style>\n",
              "    .colab-df-container {\n",
              "      display:flex;\n",
              "      gap: 12px;\n",
              "    }\n",
              "\n",
              "    .colab-df-convert {\n",
              "      background-color: #E8F0FE;\n",
              "      border: none;\n",
              "      border-radius: 50%;\n",
              "      cursor: pointer;\n",
              "      display: none;\n",
              "      fill: #1967D2;\n",
              "      height: 32px;\n",
              "      padding: 0 0 0 0;\n",
              "      width: 32px;\n",
              "    }\n",
              "\n",
              "    .colab-df-convert:hover {\n",
              "      background-color: #E2EBFA;\n",
              "      box-shadow: 0px 1px 2px rgba(60, 64, 67, 0.3), 0px 1px 3px 1px rgba(60, 64, 67, 0.15);\n",
              "      fill: #174EA6;\n",
              "    }\n",
              "\n",
              "    .colab-df-buttons div {\n",
              "      margin-bottom: 4px;\n",
              "    }\n",
              "\n",
              "    [theme=dark] .colab-df-convert {\n",
              "      background-color: #3B4455;\n",
              "      fill: #D2E3FC;\n",
              "    }\n",
              "\n",
              "    [theme=dark] .colab-df-convert:hover {\n",
              "      background-color: #434B5C;\n",
              "      box-shadow: 0px 1px 3px 1px rgba(0, 0, 0, 0.15);\n",
              "      filter: drop-shadow(0px 1px 2px rgba(0, 0, 0, 0.3));\n",
              "      fill: #FFFFFF;\n",
              "    }\n",
              "  </style>\n",
              "\n",
              "    <script>\n",
              "      const buttonEl =\n",
              "        document.querySelector('#df-25999f87-9be5-4fbf-bd67-eb4eae9f5e19 button.colab-df-convert');\n",
              "      buttonEl.style.display =\n",
              "        google.colab.kernel.accessAllowed ? 'block' : 'none';\n",
              "\n",
              "      async function convertToInteractive(key) {\n",
              "        const element = document.querySelector('#df-25999f87-9be5-4fbf-bd67-eb4eae9f5e19');\n",
              "        const dataTable =\n",
              "          await google.colab.kernel.invokeFunction('convertToInteractive',\n",
              "                                                    [key], {});\n",
              "        if (!dataTable) return;\n",
              "\n",
              "        const docLinkHtml = 'Like what you see? Visit the ' +\n",
              "          '<a target=\"_blank\" href=https://colab.research.google.com/notebooks/data_table.ipynb>data table notebook</a>'\n",
              "          + ' to learn more about interactive tables.';\n",
              "        element.innerHTML = '';\n",
              "        dataTable['output_type'] = 'display_data';\n",
              "        await google.colab.output.renderOutput(dataTable, element);\n",
              "        const docLink = document.createElement('div');\n",
              "        docLink.innerHTML = docLinkHtml;\n",
              "        element.appendChild(docLink);\n",
              "      }\n",
              "    </script>\n",
              "  </div>\n",
              "\n",
              "\n",
              "<div id=\"df-942dd3be-c67c-43c2-ba36-4d343b14eb50\">\n",
              "  <button class=\"colab-df-quickchart\" onclick=\"quickchart('df-942dd3be-c67c-43c2-ba36-4d343b14eb50')\"\n",
              "            title=\"Suggest charts\"\n",
              "            style=\"display:none;\">\n",
              "\n",
              "<svg xmlns=\"http://www.w3.org/2000/svg\" height=\"24px\"viewBox=\"0 0 24 24\"\n",
              "     width=\"24px\">\n",
              "    <g>\n",
              "        <path d=\"M19 3H5c-1.1 0-2 .9-2 2v14c0 1.1.9 2 2 2h14c1.1 0 2-.9 2-2V5c0-1.1-.9-2-2-2zM9 17H7v-7h2v7zm4 0h-2V7h2v10zm4 0h-2v-4h2v4z\"/>\n",
              "    </g>\n",
              "</svg>\n",
              "  </button>\n",
              "\n",
              "<style>\n",
              "  .colab-df-quickchart {\n",
              "      --bg-color: #E8F0FE;\n",
              "      --fill-color: #1967D2;\n",
              "      --hover-bg-color: #E2EBFA;\n",
              "      --hover-fill-color: #174EA6;\n",
              "      --disabled-fill-color: #AAA;\n",
              "      --disabled-bg-color: #DDD;\n",
              "  }\n",
              "\n",
              "  [theme=dark] .colab-df-quickchart {\n",
              "      --bg-color: #3B4455;\n",
              "      --fill-color: #D2E3FC;\n",
              "      --hover-bg-color: #434B5C;\n",
              "      --hover-fill-color: #FFFFFF;\n",
              "      --disabled-bg-color: #3B4455;\n",
              "      --disabled-fill-color: #666;\n",
              "  }\n",
              "\n",
              "  .colab-df-quickchart {\n",
              "    background-color: var(--bg-color);\n",
              "    border: none;\n",
              "    border-radius: 50%;\n",
              "    cursor: pointer;\n",
              "    display: none;\n",
              "    fill: var(--fill-color);\n",
              "    height: 32px;\n",
              "    padding: 0;\n",
              "    width: 32px;\n",
              "  }\n",
              "\n",
              "  .colab-df-quickchart:hover {\n",
              "    background-color: var(--hover-bg-color);\n",
              "    box-shadow: 0 1px 2px rgba(60, 64, 67, 0.3), 0 1px 3px 1px rgba(60, 64, 67, 0.15);\n",
              "    fill: var(--button-hover-fill-color);\n",
              "  }\n",
              "\n",
              "  .colab-df-quickchart-complete:disabled,\n",
              "  .colab-df-quickchart-complete:disabled:hover {\n",
              "    background-color: var(--disabled-bg-color);\n",
              "    fill: var(--disabled-fill-color);\n",
              "    box-shadow: none;\n",
              "  }\n",
              "\n",
              "  .colab-df-spinner {\n",
              "    border: 2px solid var(--fill-color);\n",
              "    border-color: transparent;\n",
              "    border-bottom-color: var(--fill-color);\n",
              "    animation:\n",
              "      spin 1s steps(1) infinite;\n",
              "  }\n",
              "\n",
              "  @keyframes spin {\n",
              "    0% {\n",
              "      border-color: transparent;\n",
              "      border-bottom-color: var(--fill-color);\n",
              "      border-left-color: var(--fill-color);\n",
              "    }\n",
              "    20% {\n",
              "      border-color: transparent;\n",
              "      border-left-color: var(--fill-color);\n",
              "      border-top-color: var(--fill-color);\n",
              "    }\n",
              "    30% {\n",
              "      border-color: transparent;\n",
              "      border-left-color: var(--fill-color);\n",
              "      border-top-color: var(--fill-color);\n",
              "      border-right-color: var(--fill-color);\n",
              "    }\n",
              "    40% {\n",
              "      border-color: transparent;\n",
              "      border-right-color: var(--fill-color);\n",
              "      border-top-color: var(--fill-color);\n",
              "    }\n",
              "    60% {\n",
              "      border-color: transparent;\n",
              "      border-right-color: var(--fill-color);\n",
              "    }\n",
              "    80% {\n",
              "      border-color: transparent;\n",
              "      border-right-color: var(--fill-color);\n",
              "      border-bottom-color: var(--fill-color);\n",
              "    }\n",
              "    90% {\n",
              "      border-color: transparent;\n",
              "      border-bottom-color: var(--fill-color);\n",
              "    }\n",
              "  }\n",
              "</style>\n",
              "\n",
              "  <script>\n",
              "    async function quickchart(key) {\n",
              "      const quickchartButtonEl =\n",
              "        document.querySelector('#' + key + ' button');\n",
              "      quickchartButtonEl.disabled = true;  // To prevent multiple clicks.\n",
              "      quickchartButtonEl.classList.add('colab-df-spinner');\n",
              "      try {\n",
              "        const charts = await google.colab.kernel.invokeFunction(\n",
              "            'suggestCharts', [key], {});\n",
              "      } catch (error) {\n",
              "        console.error('Error during call to suggestCharts:', error);\n",
              "      }\n",
              "      quickchartButtonEl.classList.remove('colab-df-spinner');\n",
              "      quickchartButtonEl.classList.add('colab-df-quickchart-complete');\n",
              "    }\n",
              "    (() => {\n",
              "      let quickchartButtonEl =\n",
              "        document.querySelector('#df-942dd3be-c67c-43c2-ba36-4d343b14eb50 button');\n",
              "      quickchartButtonEl.style.display =\n",
              "        google.colab.kernel.accessAllowed ? 'block' : 'none';\n",
              "    })();\n",
              "  </script>\n",
              "</div>\n",
              "    </div>\n",
              "  </div>\n"
            ]
          },
          "metadata": {},
          "execution_count": 33
        },
        {
          "output_type": "display_data",
          "data": {
            "text/plain": [
              "<google.colab._quickchart_helpers.SectionTitle at 0x7f2d91cd0b20>"
            ],
            "text/html": [
              "<h4 class=\"colab-quickchart-section-title\">Distributions</h4>\n",
              "<style>\n",
              "  .colab-quickchart-section-title {\n",
              "      clear: both;\n",
              "  }\n",
              "</style>"
            ]
          },
          "metadata": {}
        },
        {
          "output_type": "display_data",
          "data": {
            "text/plain": [
              "from matplotlib import pyplot as plt\n",
              "_df_0['floors'].plot(kind='hist', bins=20, title='floors')\n",
              "plt.gca().spines[['top', 'right',]].set_visible(False)"
            ],
            "text/html": [
              "      <div class=\"colab-quickchart-chart-with-code\" id=\"chart-aaad5054-64f7-4b8e-96f7-d1fafacf6ff0\">\n",
              "        <img style=\"width: 180px;\" src=\"data:image/png;base64,iVBORw0KGgoAAAANSUhEUgAAAjEAAAGrCAYAAAAxesZMAAAAOXRFWHRTb2Z0d2FyZQBNYXRwbG90\n",
              "bGliIHZlcnNpb24zLjcuMSwgaHR0cHM6Ly9tYXRwbG90bGliLm9yZy/bCgiHAAAACXBIWXMAAA9h\n",
              "AAAPYQGoP6dpAAAmGUlEQVR4nO3df1DU94H/8de6JBsTAUElkOJC5FeqJsAaGKs9096dE2xT8NBp\n",
              "TGMnavhhU8fL0DsTznqNNgn2pjr1MuOJlbFpbTUJYo/TM21N0hxejGAsttGJCnFdNCCdxgP0DPLj\n",
              "8/3DyX6zJ6BL9gO85fmY+cy4n/eHz74/n1nwObsf+Dgsy7IEAABgmDHDPQEAAIDBIGIAAICRiBgA\n",
              "AGAkIgYAABiJiAEAAEYiYgAAgJGIGAAAYCQiBgAAGImIAQAARiJiAAy5rq4uPf7444qOjta4ceMU\n",
              "FRWlbdu2Dfe0ABiGiAEw5CorK/XWW2/J6/Xq0qVLioyMHO4pATAQEQNgyDU2NmrKlCmKiIgYkue7\n",
              "evXqkDwPgKFFxAAYUkuWLNG6det06NAhjRs3TvPmzbtum0OHDumv/uqvFBUVpXvvvVfPPvusOjs7\n",
              "/ePnz5/XN7/5Td199926++679eijj+qjjz4KeI5vfvOb+s53vqNJkyYpLy9PV69e1VNPPaXY2FiF\n",
              "h4crMTFRL7300pAcMwB7EDEAhtTPfvYz/dM//ZO+9KUv6dKlS9q/f3/AuM/n09/+7d9qwYIFunDh\n",
              "gn7729/qP/7jP/TMM89Iknp6evTII4/I6XTq1KlTOnnypCzLUm5urnp6evz72bNnj7KysvTRRx9p\n",
              "9+7devnll3Xo0CG9//776ujo0LvvvqvZs2cP6bEDCC0iBsCI8stf/lKpqal6+umndfvttyslJUXP\n",
              "P/+8tm7dKsuyVFtbq2PHjmnz5s2KjIzU+PHj9W//9m86evSo6urq/Pt58MEHtWzZMt1222268847\n",
              "dfvtt+vSpUs6ceKEurq6FBsbK4/HM4xHCuDzImIAjChNTU1KSkoKWJecnKwrV67oz3/+s5qamhQd\n",
              "Ha2oqCj/+IQJExQVFSWfz+dfd++99wbsY/HixSouLtY//uM/auLEiZo3b57ee+89ew8GgK2IGAAj\n",
              "yuTJk/Xhhx8GrGtsbNTYsWM1adIkTZ48WRcvXtTFixf94x9//LEuXrwot9vtXzdmTOCPN6fTqX/4\n",
              "h3/Q4cOHdf78eX3xi19UXl6evQcDwFZEDIAR5Vvf+pZOnjypl156SVevXlVjY6PWrFmjgoICORwO\n",
              "ZWdna/r06VqxYoXa29vV1tam7373u8rIyFBWVla/+33zzTd15MgRXb16VXfccYfGjRsnp9M5hEcG\n",
              "INSIGAAjSkJCgn7729/qlVdeUUxMjP76r/9a8+bN07/8y79IuvaOyt69e9XZ2ank5GSlpKSou7tb\n",
              "1dXVA0ZJa2urlixZoujoaE2aNElvv/22Kisrh+qwANjAYVmWNdyTAAAACBbvxAAAACMRMQAAwEhE\n",
              "DAAAMBIRAwAAjETEAAAAIxExAADASEQMAAAw0i0fMZs2bRruKQAAABvc8hFz9uzZ4Z4CAACwwS0f\n",
              "MQAA4NZExAAAACMRMQAAwEhEDAAAMBIRAwAAjETEAAAAIxExAADASEQMAAAwEhEDAACMRMQAAAAj\n",
              "ETEAAMBIRAwAADCSbRHzySefaP78+UpNTVV6errmzp2rhoaGPrfdu3ev7rvvPqWkpCg/P1/t7e03\n",
              "NQYAAEYvW9+JKSoq0smTJ3Xs2DHl5eWpoKDgum0uXbqkJ598Ur/+9a91+vRp3XPPPfrhD394wzEA\n",
              "ADC62RYxd9xxh772ta/J4XBIkmbOnCmv13vddvv371dmZqbuu+8+SdJTTz2lnTt33nCsL52dnWpv\n",
              "bw9Yenp6QnxkAABgJAgbqifatGmT8vLyrlvv8/mUkJDgf5yYmKjm5mZ1d3cPOBYWdv3Uy8rKtHbt\n",
              "2oB1M2fODOFR/H+Jz+6zZb+S5F3/ddv2DQDArWJILux98cUX1dDQoLKyMlufp7S0VG1tbQFLdna2\n",
              "rc8JAACGh+0R8+Mf/1hVVVXav3+/7rzzzuvG3W63zp4963/s9XoVFxensLCwAcf64nK5FBEREbA4\n",
              "nc7QHxQAABh2tkbMxo0btXPnTv3ud7/T+PHj+9wmJydHR48e1QcffCBJ2rx5sxYtWnTDMQAAMLrZ\n",
              "dk3MuXPn9L3vfU9TpkzRV7/6VUnX3ik5fPiw/vmf/1n33HOPli9frvDwcG3btk3z589Xd3e3pk+f\n",
              "rpdfflmSBhwDAACjm8OyLGu4J2GnkpISbdy4MeT75cJeAACGF3+xFwAAGImIAQAARiJiAACAkYgY\n",
              "AABgJCIGAAAYiYgBAABGImIAAICRiBgAAGAkIgYAABiJiAEAAEYiYgAAgJGIGAAAYCQiBgAAGImI\n",
              "AQAARiJiAACAkYgYAABgJCIGAAAYiYgBAABGImIAAICRiBgAAGAkIgYAABiJiAEAAEYiYgAAgJGI\n",
              "GAAAYCQiBgAAGImIAQAARiJiAACAkYgYAABgJCIGAAAYiYgBAABGImIAAICRiBgAAGAkIgYAABiJ\n",
              "iAEAAEYiYgAAgJFsjZiVK1cqMTFRDodD9fX1fW6zfft2ZWRk+JeJEycqPz9fkuT1euV0OgPGGxsb\n",
              "7ZwyAAAwRJidO1+4cKFWrVqlL3/5y/1us3TpUi1dutT/ePr06Xr88cf9j8PDw/sNIAAAMHrZGjFz\n",
              "5swJavvDhw+rtbVVubm5g3q+zs5OdXZ2Bqzr6ekZ1L4AAMDINqKuiamoqNC3v/1t3Xbbbf51ly9f\n",
              "VlZWljwej9atWzdglJSVlSkyMjJgqa2tHYqpAwCAITZiIuby5cvatWuXnnzySf+6uLg4nT9/XnV1\n",
              "dTpw4IBqamq0YcOGfvdRWlqqtra2gCU7O3sopg8AAIbYiImY1157TdOmTdPUqVP961wul2JiYiRJ\n",
              "0dHRWrZsmWpqavrdh8vlUkRERMDidDptnzsAABh6IyZiKioqAt6FkaTW1lZ1dXVJuna9S1VVlTIz\n",
              "M4djegAAYISxNWKKi4sVHx+vc+fO6eGHH1ZycrIkqaCgQNXV1f7tTp48qfr6ej366KMBX3/w4EFl\n",
              "ZmYqPT1dHo9HsbGxWr16tZ1TBgAAhnBYlmUN9yTsVFJSoo0bN4Z8v4nP7gv5Pj/lXf912/YNAMCt\n",
              "YsR8nAQAABAMIgYAABiJiAEAAEYiYgAAgJGIGAAAYCQiBgAAGImIAQAARiJiAACAkYgYAABgJCIG\n",
              "AAAYiYgBAABGImIAAICRiBgAAGAkIgYAABiJiAEAAEYiYgAAgJGIGAAAYCQiBgAAGImIAQAARiJi\n",
              "AACAkYgYAABgJCIGAAAYiYgBAABGImIAAICRiBgAAGAkIgYAABiJiAEAAEYiYgAAgJGIGAAAYCQi\n",
              "BgAAGImIAQAARiJiAACAkYgYAABgJCIGAAAYiYgBAABGsjViVq5cqcTERDkcDtXX1/e5ze9//3uN\n",
              "HTtWGRkZ/uXKlSv+8YqKCqWkpCgpKUmFhYXq6uqyc8oAAMAQtkbMwoULdfDgQSUkJAy4XVpamurr\n",
              "6/3L2LFjJUlnzpzRmjVrVFNTo4aGBl24cEFbt261c8oAAMAQtkbMnDlzFB8fP+ivr6ysVG5urmJj\n",
              "Y+VwOLR8+XLt3Lmz3+07OzvV3t4esPT09Az6+QEAwMg1Iq6JaWxslMfjUVZWljZv3uxf7/P5At7F\n",
              "SUxMlM/n63c/ZWVlioyMDFhqa2ttnTsAABgewx4xHo9H586d09GjR7Vnzx5t2bJFr7766qD2VVpa\n",
              "qra2toAlOzs7xDMGAAAjwbBHTEREhCIjIyVJ8fHxeuyxx1RTUyNJcrvdOnv2rH9br9crt9vd775c\n",
              "LpciIiICFqfTae8BAACAYTHsEdPc3Kze3l5JUkdHh/bu3avMzExJ0oIFC1RdXa2WlhZZlqUtW7Zo\n",
              "0aJFwzldAAAwQtgaMcXFxYqPj9e5c+f08MMPKzk5WZJUUFCg6upqSdLu3bt1//33Kz09XTNnztTc\n",
              "uXO1dOlSSdKUKVO0du1azZ49W8nJyZo0aZKKi4vtnDIAADCEw7Isa7gnYaeSkhJt3Lgx5PtNfHZf\n",
              "yPf5Ke/6r9u2bwAAbhXD/nESAADAYBAxAADASEQMAAAwEhEDAACMRMQAAAAjETEAAMBIRAwAADAS\n",
              "EQMAAIxExAAAACMRMQAAwEhEDAAAMBIRAwAAjETEAAAAIxExAADASEQMAAAwEhEDAACMRMQAAAAj\n",
              "ETEAAMBIRAwAADASEQMAAIxExAAAACMRMQAAwEhEDAAAMBIRAwAAjETEAAAAIxExAADASEQMAAAw\n",
              "EhEDAACMRMQAAAAjETEAAMBIRAwAADASEQMAAIxExAAAACMRMQAAwEhEDAAAMJKtEbNy5UolJibK\n",
              "4XCovr6+z23efPNNZWdna+rUqZo2bZpWrVql3t5eSZLX65XT6VRGRoZ/aWxstHPKAADAELZGzMKF\n",
              "C3Xw4EElJCT0u01UVJR27dqlEydO6L333tM777yjn//85/7x8PBw1dfX+5ekpCQ7pwwAAAwRZufO\n",
              "58yZc8NtMjMz/f++4447lJGRIa/XO6jn6+zsVGdnZ8C6np6eQe0LAACMbCPqmpiWlhZVVlbqkUce\n",
              "8a+7fPmysrKy5PF4tG7dugGjpKysTJGRkQFLbW3tUEwdAAAMsRETMe3t7frGN76hVatW6cEHH5Qk\n",
              "xcXF6fz586qrq9OBAwdUU1OjDRs29LuP0tJStbW1BSzZ2dlDdQgAAGAIjYiI6ejoUE5OjvLy8lRS\n",
              "UuJf73K5FBMTI0mKjo7WsmXLVFNT0+9+XC6XIiIiAhan02n7/AEAwNAb9oi5dOmScnJylJOTo+9/\n",
              "//sBY62trerq6pJ07XqXqqqqgGtoAADA6GVrxBQXFys+Pl7nzp3Tww8/rOTkZElSQUGBqqurJUmb\n",
              "Nm1SbW2tqqqq/L9G/cILL0iSDh48qMzMTKWnp8vj8Sg2NlarV6+2c8oAAMAQDsuyrOGehJ1KSkq0\n",
              "cePGkO838dl9Id/np7zrv27bvgEAuFUM+8dJAAAAg0HEAAAAIxExAADASEQMAAAwUtAR85vf/MaO\n",
              "eQAAAAQl6IhZt26d0tLStGnTJrW3t9sxJwAAgBsKOmL++7//W7t27dL777+v1NRUPfXUUzpx4oQd\n",
              "cwMAAOjXoK6JyczM1E9/+lO9/vrr2rt3rx544AHNnTtXf/rTn0I9PwAAgD4NKmIOHDigvLw85efn\n",
              "67vf/a5aWlpUXFysv/u7vwv1/AAAAPoUFuwXfPGLX9TEiRO1cuVK5efn+2+wuHDhQlVUVIR8ggAA\n",
              "AH0JOmJ27NihGTNm9Dm2f//+zz0hAACAmxH0x0nvvfeePv74Y//jv/zlL/rpT38a0kkBAADcSNAR\n",
              "s3nzZkVHR/sfT5gwQZs3bw7ppAAAAG4k6Ijp66bXPT09IZkMAADAzQo6YuLi4vTqq6/6H7/yyiuK\n",
              "i4sL6aQAAABuJOgLe3/yk58oLy9Pq1atkiTdeeed+vd///eQTwwAAGAgQUfMfffdpxMnTujkyZOS\n",
              "pLS0NP+vWQMAAAyVoCNGkhwOh8aPH6/u7m6dP39ekuR2u0M6MQAAgIEEHTE/+9nPtHLlSt12220a\n",
              "M+baJTUOh0Otra0hnxwAAEB/go6YH/7wh6qrq1NaWpod8wEAALgpQf920sSJEwkYAAAw7IKOmPnz\n",
              "5+snP/mJWltb1d7e7l8AAACGUtAfJ61evVqSVFJSIofDIcuy5HA4+IN3AABgSAUdMb29vXbMAwAA\n",
              "IChBf5wkXbsJ5C9+8QtJ0v/8z/+oubk5pJMCAAC4kUHdAHLZsmV67rnnJF27i/W3vvWtUM8LAABg\n",
              "QEFHzNatW/Xuu+8qIiJCkpSUlKQ///nPIZ8YAADAQIKOGJfLpbFjxwasCwsb1B/+BQAAGLSgI2bS\n",
              "pEk6deqUHA6HpGt/wZdbDgAAgKE2qLtYP/bYY/rggw80efJkRUREaO/evXbMDQAAoF9BR0xycrIO\n",
              "Hz6skydPyrIs7mINAACGRdAR4/P5JEl33XWXJHEXawAAMCyCjpgZM2b4/1LvJ598ov/93//VhAkT\n",
              "uIs1AAAYUkFHzP/9deqqqiodO3YsZBMCAAC4GYP6i72flZ+fr3379oViLgAAADct6Ij57J2rL168\n",
              "qNdff73fu1ivXLlSiYmJcjgcqq+v73efFRUVSklJUVJSkgoLC9XV1XVTYwAAYPQKOmLGjx+vqKgo\n",
              "jR8/XjExMSopKdG//uu/9rntwoULdfDgQSUkJPS7vzNnzmjNmjWqqalRQ0ODLly4oK1bt95wDAAA\n",
              "jG5BR0xvb696enrU29urrq4unThxQjk5OX1uO2fOHMXHxw+4v8rKSuXm5io2NlYOh0PLly/Xzp07\n",
              "bzjWl87OzoB3itrb29XT0xPsIQIAAAMM+/0CfD5fwDs1iYmJ/l/jHmisL2VlZVq7dm3AupkzZ4Z4\n",
              "xvZLfNaea4y8679uy34l++Ys2TtvAMPLxJ93JrpVz3PQ78SMGTNGTqfzuuXT9cOptLRUbW1tAUt2\n",
              "dvawzgkAANgj6Hdi1q1bpytXrug73/mOJGnLli0aO3asnn766UFNwO12q7Gx0f/Y6/X6/3DeQGN9\n",
              "cblccrlcAeuGO6wAAIA9gn4nZs+ePXrhhRcUHx+v+Ph4Pf/886qqqtJdd93l/yu+wViwYIGqq6vV\n",
              "0tIiy7K0ZcsWLVq06IZjAABgdAs6Yjo6OgL+Om9ra6s6Ojr63La4uFjx8fE6d+6cHn74YSUnJ0uS\n",
              "CgoKVF1dLUmaMmWK1q5dq9mzZys5OVmTJk1ScXHxDccAAMDoFvTHSd/73veUnp6ur33ta5Kk119/\n",
              "Xc8991yf25aXl/e5ftu2bQGPCwsLVVhY2Oe2A40BAIDRK+iIKS4u1uzZs/XWW29JkkpKSjRt2rSQ\n",
              "TwwAAGAgg/oV6wkTJuj+++/XV77yFXV3d+vq1au6/fbbQz03AACAfgV9TUxlZaVmzpyppUuXSpKO\n",
              "Hz+u+fPnh3peAAAAAwo6YsrKynT06FGNHz9ekpSenq6zZ8+Gel4AAAADCjpinE6nJkyYELCOj5IA\n",
              "AMBQCzpiwsPDdeHCBTkcDknSG2+8oejo6JBPDAAAYCBBX9j7ox/9SPPmzdOHH36oL3/5yzpz5oz2\n",
              "7bPvvjkAAAB9CSpiPr2D9VtvvaV33nlHlmVp1qxZ/utjAAAAhkpQETNmzBgVFRXp2LFjmjdvnl1z\n",
              "AgAAuKGgr4lJSUlRQ0ODHXMBAAC4aUFfE/Pxxx8rIyNDs2bN0rhx4/zrq6qqQjoxAACAgdx0xBQV\n",
              "FWnr1q164oknlJubq6ioKDvnBQAAMKCbjpgjR45Ikp544gl5PB4dPXrUtkkBAADcSNDXxEiSZVmh\n",
              "ngcAAEBQbvqdmCtXruhPf/qTLMvSJ5984v/3px544AFbJggAANCXoCImNzfX//iz/3Y4HPrwww9D\n",
              "OzMAAIAB3HTEeL1eG6cBAAAQnEFdEwMAADDciBgAAGAkIgYAABiJiAEAAEYiYgAAgJGIGAAAYCQi\n",
              "BgAAGImIAQAARiJiAACAkYgYAABgJCIGAAAYiYgBAABGImIAAICRiBgAAGAkIgYAABiJiAEAAEYi\n",
              "YgAAgJGIGAAAYCRbI+b06dOaNWuWUlNTlZWVpePHj1+3zfbt25WRkeFfJk6cqPz8fEmS1+uV0+kM\n",
              "GG9sbLRzygAAwBBhdu68uLhYRUVFWrJkiSorK7VkyRLV1dUFbLN06VItXbrU/3j69Ol6/PHH/Y/D\n",
              "w8NVX19v5zQBAICBbHsnprW1VUeOHNHixYslSQsWLFBTU5MaGhr6/ZrDhw+rtbVVubm5g3rOzs5O\n",
              "tbe3Byw9PT2D2hcAABjZbIuYpqYmxcXFKSzs2ps9DodDbrdbPp+v36+pqKjQt7/9bd12223+dZcv\n",
              "X1ZWVpY8Ho/WrVs3YJSUlZUpMjIyYKmtrQ3dQQEAgBFjxFzYe/nyZe3atUtPPvmkf11cXJzOnz+v\n",
              "uro6HThwQDU1NdqwYUO/+ygtLVVbW1vAkp2dPRTTBwAAQ8y2iJk8ebKam5vV3d0tSbIsSz6fT263\n",
              "u8/tX3vtNU2bNk1Tp071r3O5XIqJiZEkRUdHa9myZaqpqen3OV0ulyIiIgIWp9MZwqMCAAAjhW0R\n",
              "ExMTI4/Hox07dkiSdu/erfj4eCUnJ/e5fUVFRcC7MNK162q6urokXbvepaqqSpmZmXZNGQAAGMTW\n",
              "j5PKy8tVXl6u1NRUrV+/Xtu3b5ckFRQUqLq62r/dyZMnVV9fr0cffTTg6w8ePKjMzEylp6fL4/Eo\n",
              "NjZWq1evtnPKAADAELb+inVaWpoOHTp03fpt27Zdt11HR8d12+Xn5/v/ZgwAAMBnjZgLewEAAIJB\n",
              "xAAAACMRMQAAwEhEDAAAMBIRAwAAjETEAAAAIxExAADASEQMAAAwEhEDAACMRMQAAAAjETEAAMBI\n",
              "RAwAADASEQMAAIxExAAAACMRMQAAwEhEDAAAMBIRAwAAjETEAAAAIxExAADASEQMAAAwEhEDAACM\n",
              "RMQAAAAjETEAAMBIRAwAADASEQMAAIxExAAAACMRMQAAwEhEDAAAMBIRAwAAjETEAAAAIxExAADA\n",
              "SEQMAAAwEhEDAACMRMQAAAAjETEAAMBItkbM6dOnNWvWLKWmpiorK0vHjx+/bpvf//73Gjt2rDIy\n",
              "MvzLlStX/OMVFRVKSUlRUlKSCgsL1dXVZeeUAQCAIWyNmOLiYhUVFenUqVN65plntGTJkj63S0tL\n",
              "U319vX8ZO3asJOnMmTNas2aNampq1NDQoAsXLmjr1q12ThkAABjCtohpbW3VkSNHtHjxYknSggUL\n",
              "1NTUpIaGhpveR2VlpXJzcxUbGyuHw6Hly5dr586d/W7f2dmp9vb2gKWnp+dzHwsAABh5bIuYpqYm\n",
              "xcXFKSwsTJLkcDjkdrvl8/mu27axsVEej0dZWVnavHmzf73P51NCQoL/cWJiYp9f/6mysjJFRkYG\n",
              "LLW1tSE8KgAAMFIM+4W9Ho9H586d09GjR7Vnzx5t2bJFr7766qD2VVpaqra2toAlOzs7xDMGAAAj\n",
              "gW0RM3nyZDU3N6u7u1uSZFmWfD6f3G53wHYRERGKjIyUJMXHx+uxxx5TTU2NJMntduvs2bP+bb1e\n",
              "73Vf/1kul0sREREBi9PpDPWhAQCAEcC2iImJiZHH49GOHTskSbt371Z8fLySk5MDtmtublZvb68k\n",
              "qaOjQ3v37lVmZqaka9fRVFdXq6WlRZZlacuWLVq0aJFdUwYAAAax9eOk8vJylZeXKzU1VevXr9f2\n",
              "7dslSQUFBaqurpZ0LW7uv/9+paena+bMmZo7d66WLl0qSZoyZYrWrl2r2bNnKzk5WZMmTVJxcbGd\n",
              "UwYAAIYIs3PnaWlpOnTo0HXrt23b5v/3ihUrtGLFin73UVhYqMLCQlvmBwAAzDXsF/YCAAAMBhED\n",
              "AACMRMQAAAAjETEAAMBIRAwAADASEQMAAIxExAAAACMRMQAAwEhEDAAAMBIRAwAAjETEAAAAIxEx\n",
              "AADASEQMAAAwEhEDAACMRMQAAAAjETEAAMBIRAwAADASEQMAAIxExAAAACMRMQAAwEhEDAAAMBIR\n",
              "AwAAjETEAAAAIxExAADASEQMAAAwEhEDAACMRMQAAAAjETEAAMBIRAwAADASEQMAAIxExAAAACMR\n",
              "MQAAwEhEDAAAMBIRAwAAjETEAAAAI9kaMadPn9asWbOUmpqqrKwsHT9+/Lpt3nzzTWVnZ2vq1Kma\n",
              "Nm2aVq1apd7eXkmS1+uV0+lURkaGf2lsbLRzygAAwBC2RkxxcbGKiop06tQpPfPMM1qyZMl120RF\n",
              "RWnXrl06ceKE3nvvPb3zzjv6+c9/7h8PDw9XfX29f0lKSrJzygAAwBC2RUxra6uOHDmixYsXS5IW\n",
              "LFigpqYmNTQ0BGyXmZmpKVOmSJLuuOMOZWRkyOv1Duo5Ozs71d7eHrD09PR8ruMAAAAjk20R09TU\n",
              "pLi4OIWFhUmSHA6H3G63fD5fv1/T0tKiyspKPfLII/51ly9fVlZWljwej9atWzdglJSVlSkyMjJg\n",
              "qa2tDd1BAQCAEWPEXNjb3t6ub3zjG1q1apUefPBBSVJcXJzOnz+vuro6HThwQDU1NdqwYUO/+ygt\n",
              "LVVbW1vAkp2dPVSHAAAAhpBtETN58mQ1Nzeru7tbkmRZlnw+n9xu93XbdnR0KCcnR3l5eSopKfGv\n",
              "d7lciomJkSRFR0dr2bJlqqmp6fc5XS6XIiIiAhan0xniIwMAACOBbRETExMjj8ejHTt2SJJ2796t\n",
              "+Ph4JScnB2x36dIl5eTkKCcnR9///vcDxlpbW9XV1SXp2vUuVVVVyszMtGvKAADAILZ+nFReXq7y\n",
              "8nKlpqZq/fr12r59uySpoKBA1dXVkqRNmzaptrZWVVVV/l+jfuGFFyRJBw8eVGZmptLT0+XxeBQb\n",
              "G6vVq1fbOWUAAGCIMDt3npaWpkOHDl23ftu2bf5/r169ut8wyc/PV35+vm3zAwAA5hoxF/YCAAAE\n",
              "g4gBAABGImIAAICRiBgAAGAkIgYAABiJiAEAAEYiYgAAgJGIGAAAYCQiBgAAGImIAQAARiJiAACA\n",
              "kYgYAABgJCIGAAAYiYgBAABGImIAAICRiBgAAGAkIgYAABiJiAEAAEYiYgAAgJGIGAAAYCQiBgAA\n",
              "GImIAQAARiJiAACAkYgYAABgJCIGAAAYiYgBAABGImIAAICRiBgAAGAkIgYAABiJiAEAAEYiYgAA\n",
              "gJGIGAAAYCQiBgAAGImIAQAARiJiAACAkWyNmNOnT2vWrFlKTU1VVlaWjh8/3ud2FRUVSklJUVJS\n",
              "kgoLC9XV1XVTYwAAYPSyNWKKi4tVVFSkU6dO6ZlnntGSJUuu2+bMmTNas2aNampq1NDQoAsXLmjr\n",
              "1q03HAMAAKObbRHT2tqqI0eOaPHixZKkBQsWqKmpSQ0NDQHbVVZWKjc3V7GxsXI4HFq+fLl27tx5\n",
              "w7G+dHZ2qr29PWDp6emx6xABAMAwCrNrx01NTYqLi1NY2LWncDgccrvd8vl8Sk5O9m/n8/mUkJDg\n",
              "f5yYmCifz3fDsb6UlZVp7dq1Aevuu+8+lZSUhOSYPtXT06O42lplZ2fL6XSGdN92Kil5w7Z953/O\n",
              "r+/p6VFtP+fUznnfqgY6nxgczmlofXo+82w6n6Px58ZAr9HP+zO6P3ae54SEBP393//9gNvYFjHD\n",
              "obS09LpgcblccrlcIX2e9vZ2RUZG6je/+Y0iIiJCuu/RinMaWpzP0OOchhbnM/RG4zm1LWImT56s\n",
              "5uZmdXd3KywsTJZlyefzye12B2zndrvV2Njof+z1ev3bDDTWFzuCBQAAjEy2XRMTExMjj8ejHTt2\n",
              "SJJ2796t+Pj4gI+SpGvXylRXV6ulpUWWZWnLli1atGjRDccAAMDoZutvJ5WXl6u8vFypqalav369\n",
              "tm/fLkkqKChQdXW1JGnKlClau3atZs+ereTkZE2aNEnFxcU3HAMAAKObrdfEpKWl6dChQ9et37Zt\n",
              "W8DjwsJCFRYW9rmPgcaGi8vl0g9+8AM+ugohzmlocT5Dj3MaWpzP0BuN59RhWZY13JMAAAAIFrcd\n",
              "AAAARiJiAACAkYgYAABgJCIGAAAYiYgJ0s3emXs0++STTzR//nylpqYqPT1dc+fO9d8zq7W1VTk5\n",
              "OUpJSdH06dP1X//1X/6vG+zYaLN9+3Y5HA79+te/lsQ5HazOzk6tWLFCKSkpuv/++/33eRvoe3yw\n",
              "Y6PFf/7nf8rj8SgjI0PTp0/Xyy+/LInX6M1auXKlEhMT5XA4VF9f719vx2vylnm9WgjKV7/6VWv7\n",
              "9u2WZVnWa6+9Zj344IPDO6ER6MqVK9a+ffus3t5ey7Is66WXXrIeeughy7Isa+nSpdYPfvADy7Is\n",
              "q7a21vrCF75gXb169XONjSZnzpyxvvSlL1kzZ8609uzZY1kW53Swnn76aWvFihX+12lzc7NlWQN/\n",
              "jw92bDTo7e21oqKirGPHjlmWde216nK5rPb2dl6jN+ntt9+2mpqarISEBOsPf/iDf70dr8lb5fVK\n",
              "xAThwoULVnh4uNXV1WVZ1rVv2rvvvts6ffr0MM9sZKurq7MSEhIsy7Ksu+66y/+fhWVZVlZWlvW7\n",
              "3/3uc42NFj09Pdbf/M3fWEeOHLEeeughf8RwToN36dIlKzw83GprawtYP9D3+GDHRove3l4rOjra\n",
              "evvtty3Lsqxjx45Z99xzj9XZ2clrNEifjRg7XpO30uv1lroBpN1u9s7cCLRp0ybl5eXpL3/5i7q6\n",
              "uhQbG+sf+/TO5IMdG002btyo2bNna8aMGf51nNPBaWxsVHR0tF588UUdOHBAY8eO1XPPPafx48f3\n",
              "+z0eGRk5qLHR8rPB4XDolVdeUX5+vu666y5dvHhRVVVV6ujo4DX6OQz0/85gX5O30uuViIGtXnzx\n",
              "RTU0NOiNN97QlStXhns6xnr//fe1e/fuW/6agKHS3d2ts2fPaurUqVq/fr3+8Ic/aO7cudq3b99w\n",
              "T81Y3d3dev7551VVVaU5c+aorq5Oubm5Add2AKHGhb1B+OyduSX1e2duXPPjH/9YVVVV2r9/v+68\n",
              "805NmDBBYWFhamlp8W/z6Z3JBzs2WtTU1Mjr9SolJUWJiYl69913VVRUpFdffZVzOghut1tjxozR\n",
              "448/LknKzMzUvffeq7Nnz/b7PT7Q9z8/G6T6+np99NFHmjNnjiQpKytL8fHx+uMf/8hr9HMY7Otu\n",
              "1Lxeh++TLDM99NBDARdDzZgxY3gnNEJt2LDB8ng81scffxyw/oknngi4UO+ee+7xX6g32LHR6LPX\n",
              "xHBOB2fu3LnWvn37LMuyrA8//NCaMGGCde7cuQG/xwc7Nhq0tLRY48aNs06cOGFZlmWdPn3aioqK\n",
              "ss6ePctrNEj/98JeO16Tt8rrlYgJ0gcffGDNnDnTSklJsWbMmGH98Y9/HO4pjThNTU2WJGvKlClW\n",
              "enq6lZ6ebmVnZ1uWde0H3dy5c63k5GRr6tSp1ptvvun/usGOjUafjRjO6eA0NjZaX/nKV6zp06db\n",
              "DzzwgFVZWWlZ1sDf44MdGy1+9atf+c/n9OnTrV/+8peWZfEavVlFRUXWF77wBcvpdFoxMTFWUlKS\n",
              "ZVn2vCZvldcrN4AEAABG4poYAABgJCIGAAAYiYgBAABGImIAAICRiBgAAGAkIgYAABiJiAEAAEYi\n",
              "YgAAgJGIGAAAYCQiBgAAGOn/AX/WL0vZMnzgAAAAAElFTkSuQmCC\n",
              "\">\n",
              "      </div>\n",
              "      <script type=\"text/javascript\">\n",
              "        (() => {\n",
              "          const chartElement = document.getElementById(\"chart-aaad5054-64f7-4b8e-96f7-d1fafacf6ff0\");\n",
              "          async function getCodeForChartHandler(event) {\n",
              "            const chartCodeResponse =  await google.colab.kernel.invokeFunction(\n",
              "                'getCodeForChart', [\"chart-aaad5054-64f7-4b8e-96f7-d1fafacf6ff0\"], {});\n",
              "            const responseJson = chartCodeResponse.data['application/json'];\n",
              "            await google.colab.notebook.addCell(responseJson.code, 'code');\n",
              "          }\n",
              "          chartElement.onclick = getCodeForChartHandler;\n",
              "        })();\n",
              "      </script>\n",
              "      <style>\n",
              "        .colab-quickchart-chart-with-code  {\n",
              "            display: block;\n",
              "            float: left;\n",
              "            border: 1px solid transparent;\n",
              "        }\n",
              "\n",
              "        .colab-quickchart-chart-with-code:hover {\n",
              "            cursor: pointer;\n",
              "            border: 1px solid #aaa;\n",
              "        }\n",
              "      </style>"
            ]
          },
          "metadata": {}
        },
        {
          "output_type": "display_data",
          "data": {
            "text/plain": [
              "<google.colab._quickchart_helpers.SectionTitle at 0x7f2d91cd1270>"
            ],
            "text/html": [
              "<h4 class=\"colab-quickchart-section-title\">Values</h4>\n",
              "<style>\n",
              "  .colab-quickchart-section-title {\n",
              "      clear: both;\n",
              "  }\n",
              "</style>"
            ]
          },
          "metadata": {}
        },
        {
          "output_type": "display_data",
          "data": {
            "text/plain": [
              "from matplotlib import pyplot as plt\n",
              "_df_1['floors'].plot(kind='line', figsize=(8, 4), title='floors')\n",
              "plt.gca().spines[['top', 'right']].set_visible(False)"
            ],
            "text/html": [
              "      <div class=\"colab-quickchart-chart-with-code\" id=\"chart-139aa907-7d2e-4fa7-b96d-08085413a26d\">\n",
              "        <img style=\"width: 180px;\" src=\"data:image/png;base64,iVBORw0KGgoAAAANSUhEUgAAAqwAAAFuCAYAAABECkoSAAAAOXRFWHRTb2Z0d2FyZQBNYXRwbG90\n",
              "bGliIHZlcnNpb24zLjcuMSwgaHR0cHM6Ly9tYXRwbG90bGliLm9yZy/bCgiHAAAACXBIWXMAAA9h\n",
              "AAAPYQGoP6dpAAA900lEQVR4nO3deXxU9b3/8fdsmawzZE9YQoAkIFsQBVGqYNVWbRWrQm+t3lJr\n",
              "3eqv7Q+tSq3VblKtcm+rv9Z622t7r71eEVxaq9baCu6CCwgoCQRCIJB932Y9vz8mDBlIYgyTnEny\n",
              "ej4eeSQ535OZz3gM8+bD55xjMQzDEAAAABCjrGYXAAAAAPSHwAoAAICYRmAFAABATCOwAgAAIKYR\n",
              "WAEAABDTCKwAAACIaQRWAAAAxDQCKwAAAGIagRUAAAAxjcAKAMPA5/Ppq1/9qtLS0pScnKzU1FT9\n",
              "7ne/M7ssABgRCKwAMAzWr1+vV155ReXl5Wpra5Pb7Ta7JAAYMQisADAMysrKNHXqVLlcrmF5Pq/X\n",
              "OyzPAwDDgcAKAENs5cqV+vGPf6y33npLycnJuuCCC47b56233tKZZ56p1NRUTZkyRbfffrs8Hk94\n",
              "vbKyUitWrFB2drays7P15S9/WYcOHYp4jhUrVuiGG25QZmamli1bJq/XqxtvvFE5OTlKSUlRfn6+\n",
              "HnzwwWF5zQAQTQRWABhif/jDH/T9739fp59+utra2vTCCy9ErFdUVOjcc8/VZZddpurqar300kv6\n",
              "y1/+ottuu02SFAgE9MUvflE2m02lpaUqKSmRYRi6+OKLFQgEwo/z9NNPa8GCBTp06JA2bNigP/7x\n",
              "j3rrrbe0Y8cOtba26u2339bixYuH9bUDQDQQWAHAZH/6059UVFSk7373u4qLi1NhYaF++tOf6pFH\n",
              "HpFhGNq8ebO2bdumX//613K73Ro3bpx+85vf6P3339eWLVvCj3Pqqafq6quvlsPhUGJiouLi4tTW\n",
              "1qaPPvpIPp9POTk5mj9/vomvFAAGh8AKACY7cOCApk2bFrGtoKBAnZ2dqq2t1YEDB5SWlqbU1NTw\n",
              "enp6ulJTU1VRURHeNmXKlIjHuPLKK3Xdddfpe9/7njIyMnTBBRfovffeG9oXAwBDgMAKACabNGmS\n",
              "9u7dG7GtrKxMCQkJyszM1KRJk9TY2KjGxsbwekNDgxobG5WXlxfeZrVG/pFus9l0yy236J133lFl\n",
              "ZaVOOukkLVu2bGhfDAAMAQIrAJjsiiuuUElJiR588EF5vV6VlZXpzjvv1DXXXCOLxaKFCxdq9uzZ\n",
              "uummm9TS0qLm5mZ961vf0rx587RgwYI+H/ef//yn3n33XXm9XsXHxys5OVk2m20YXxkARAeBFQBM\n",
              "NnnyZL300kt64oknlJWVpc9+9rO64IILdN9990kKdUqfe+45eTweFRQUqLCwUH6/X3/+85/7DaA1\n",
              "NTVauXKl0tLSlJmZqU2bNmn9+vXD9bIAIGoshmEYZhcBAAAA9IUOKwAAAGIagRUAAAAxjcAKAACA\n",
              "mEZgBQAAQEwjsAIAACCmEVgBAAAQ0wisAAAAiGmjOrD+8pe/NLsEAAAAnKBRHVj3799vdgkAAAA4\n",
              "QaM6sAIAAGDkI7ACAAAgphFYAQAAENMIrAAAAIhpBFYAAADENAIrAAAAYhqBFQAAADGNwAoAAICY\n",
              "RmAFAABATCOwAgAAIKYRWKPEMAyzSwAAABiV7GYXMBr4AkGdt3aTTs5L1ZKiTJ1VlKm0pDizywIA\n",
              "ABgVCKxR8N7+RpXXd6i8vkNPf1Api0WaO3GclhRlaun0TBVPHCeb1WJ2mQAAACMSgTUKTpmcqv+9\n",
              "dpE2ltRqU2mtPj7com0HmrTtQJN+9Y/dGpfo0JmFmVra3X3NTHGaXTIAAMCIYTFG8fDlqlWrtHbt\n",
              "2mF/3uqWLm3qDq+v7q5Va5c/Yn32BJeWFmVp6fRMzZs0TnYbo8QAAAB9IbAOMX8gqA8ONGlTSa02\n",
              "ltZoR2VLxLor3q4zCzO1ZHqmlhRlKtsVb1KlAAAAsYnAOsxqWrv0WmmdNpbW6rXdtWrq8EWsn5Tr\n",
              "0tLu8HrK5FQ56L4CAIAxjsBqokDQ0LaDTaHZ15IafVjZrJ5HI8Vp1+KCDC2ZHjp5K9edYF6xAAAA\n",
              "JiGwxpD6No9e212njSU1enV3nRravRHr07NTQuG1KFOn5qcpzk73FQAAjH4E1hgVDBraXtncfeWB\n",
              "Gm090KRgjyOVGGfTGdMytLS7+zoxNdG8YgEAAIYQl7WKUVarRcWTxql40jh959xCNbZ79dqeuvDV\n",
              "B+raPHr542q9/HG1JGlaZpKWTs/SkqJMLZySpniHzeRXAAAAEB0E1hEiNSlOFxeP18XF4xUMGvro\n",
              "cIs2ldZqY0mN3q9oUlltu8pq9+n3r+9TgsOm06elh29cMDk9yezyAQAABo3AOgJZrRbNnuDW7Alu\n",
              "fevsAjV3+vTGntDs66bSWlW3ePTPXTX6564aSdKUjCQtKQpdOuv0qel0XwEAwIhCYB0F3AkOXTgn\n",
              "VxfOyZVhGNpV1aqNJaHu63v7G7Wvrl376tr1hzfL5bRbddrUdC3t7r5OyUiSxcJtYwEAQOzipKtR\n",
              "rrXLpzf21GtTaY02ltTqcHNXxPqktITwXbdOn5auxDj+DgMAAGILgXUMMQxDu2vawqMDm/c1yBc4\n",
              "evjjbFYtnJIWvnFBQVYy3VcAAGC6T3Uhz29/+9vKz8+XxWLR1q1bw9t3796tM844Q0VFRVqwYIF2\n",
              "7tw5pGsYHIvFoqLsFF171jT96ZpF2vrDz+k//vVUXbkoTxNTE+QNBPX6njr99K8f67x/e1WfufcV\n",
              "ff/p7frbziq1efxmlw8AAMaoTxVYL7/8cr3++uuaPHlyxPbrrrtO1157rUpLS3Xbbbdp5cqVQ7qG\n",
              "6Ehy2nXezGz99JI5eu3Ws/XyqiW684szdWZhhuLsVlU2dep/3qnQdf/9nk7+8Uv6yiNv6+FNZdpV\n",
              "1aJR3JgHAAAxZlAjAfn5+XrmmWc0b9481dTUqKCgQA0NDbLb7TIMQ7m5uXr99dflcrmivlZQUDDg\n",
              "OhkJGLxOb0Bv763XxpIabSyt1f76joj1HFd8+LJZiwsz5Ip3mFQpAAAY7U74DJsDBw4oNzdXdnvo\n",
              "oSwWi/Ly8lRRUSG32x31tb4Cq8fjkcfjidgWCARO9OWNWQlxNp09I0tnz8iSJJXXtYdnX9/aW6+q\n",
              "li498e4BPfHuAdmsFp2Sl6ol3bOvs8a7mH0FAABRM2pOCV+zZo1+9KMfRWxbtGiRSdWMPvkZSVqZ\n",
              "MUUrF09Rly+gd/Y1aFNJrTaW1mhvbbs2lzdoc3mDfvG3EmWmOEPXfS3K1FmFmXIn0n0FAACDd8KB\n",
              "ddKkSTp8+LD8fn/4n+8rKiqUl5cnl8sV9bW+rF69WqtWrYrYduedd57oy0Mv4h22cCD9oWbqQEOH\n",
              "NpbWalNJjd7YU6/aVo/Wv3dQ6987KKtFOjkvNTw+MHu8W1Yr3VcAADBwn+qkq95kZWVp/vz5euyx\n",
              "xyRJGzZs0MSJE1VQUDAka31xOp1yuVwRHzYbd3QaDpPSEnXVosn63dcWaOtd5+lP15ymb545RYVZ\n",
              "yQoa0nv7G7X276W6+KE3tOBnL+v/PrFVz26tVEO71+zSAQDACPCpTrq67rrr9Ne//lVVVVVKT09X\n",
              "SkqK9uzZo5KSEq1cuVL19fVyuVx69NFHNWfOHEkakrWB4qQr81U2dYZGB0pq9MaeOrV7j84VWyzS\n",
              "3InjwnfdmjtxnGx0XwEAwDG4cQCGjdcf1Hv7G7WxtEabSmq1q6o1Yj010aEzC0Ph9czCTGWmOE2q\n",
              "FAAAxBICK0xT1dylTaWhKw+8trtOrV2RNyeYM8EdvuvWvEnjZLed8AQLAAAYgQisiAm+QFAfVDSF\n",
              "L52181BLxLor3q4zu0/0WlqUqSxXvEmVAgCA4UZgRUyqaenSq7vrtLGkRq/trlNzpy9ifWauS0um\n",
              "h8Lr/MmpctB9BQBg1CKwIub5A0FtO9isTd133frwYHPEeorTrsUFGaHxgemZynUnmFQpAAAYCgRW\n",
              "jDh1bR69trtWG0tq9WpprRo7Iruv07NTwrOvp+anKc5O9xUAgJGMwIoRLRA0tL2yOTz7uvVAk3r+\n",
              "H50UZ9MZBRnhGxdMTE00r1gAADAoo+bWrBibbFaL5k0ap3mTxum75xapsd2rV3fXalNpqPta1+bV\n",
              "3z+q1t8/qpYkFWQlh8Prwilpctq5uQQAALGOwIpRJTUpTsvmTdCyeRMUDBraeahFm0prtLGkVu9X\n",
              "NGpPTZv21LTp96/vU4LDptOnpWvp9EwtLcpSXjrdVwAAYhEjARgzmjt8en1PXXh8oKbVE7E+JSMp\n",
              "3H1dNDVd8Q66rwAAxAI6rBgz3IkOfWFurr4wN1eGYejjw63aeKT7ur9R++rata+uXX94s1xOu1WL\n",
              "pqaHT96akpEki4XbxgIAYAYCK8Yki8WimeNdmjnepRuXFqily6c399RpY0lo/vVwc5c2lYa+lqS8\n",
              "tMRweD19WroS4/jVAQBguDASABzDMAyVVreFZ1+3lDfIFzj6axJns+q0qWnh8YFpmcl0XwEAGEIE\n",
              "VuATtHn8equsXhtLQgG2sqkzYn3CuITwXbfOKMhQspPuKwAA0cQ7K/AJkp12nTczW+fNzJZhGCqr\n",
              "bQ+fuPXO3gZVNnXqf96p0P+8UyGHzaJTJ6eF77o1PTuF7isAACeIDitwAjq8fr29t14bS0J33qpo\n",
              "6IhYz3XHa0lRaPZ1cWGGXPEOkyoFAGDkosMKnIDEOLs+OyNbn52RLUnaV9ceHh14e2+9Djd36X+3\n",
              "HND/bjkgu9Wi+ZNTw7OvM3NddF8BABgAOqzAEOnyBcLd11dLa7W3rj1iPTPFGQ6vZxZkyp1I9xUA\n",
              "gN7QYQWGSLzDpqXTs7R0epYkqaK+QxtLa7SppFZvltWrttWj9e8d1Pr3DspqkU7OS9XSokwtnZ6l\n",
              "WeNdslrpvgIAINFhBUzR5QtoS3mDNpXUamNprfbUtEWsZyTH6azC0IlbZxVmKjUpzqRKAQAwH4EV\n",
              "iAEHGzu0qTR04tabe+rU7g2E1ywWqXjiOC2dHuq+zpnglo3uKwBgDCGwAjHG6w/q3f2h7uum0lrt\n",
              "qmqNWE9NdOisI7OvhZnKSHaaVCkAAMODwArEuMPNneHw+vruOrV6/OE1i0WaM8EdPnlr3qRUuq8A\n",
              "gFGHwAqMIL5AUO/vbwyPD3x0uCVi3Z3g0GcKM7S0KDT/mpUSb1KlAABED4EVGMFqWrpC4bW0Vq+V\n",
              "1qqlyx+xPjPXFZ59PTlvnBw2q0mVAgAweARWYJTwB4LadrApfNet7ZXNEesp8XZ9piAjdNvYoizl\n",
              "uOm+AgBGBgIrMErVtXn0avfowGu7a9XY4YtYn5GToiXTQ7eNPXVymuLsdF8BALGJwAqMAYGgoQ+7\n",
              "u6+bSmu17WCTev7mJ8XZtLggQ0u6xwcmjEswr1gAAI5BYAXGoIZ2r17bXRu++kB9uzdivTArufvK\n",
              "A1laMCVVTrvNpEoBAODWrMCYlJYUp2XzJmjZvAkKBg3tPNSijSU12lhaqw8qGrW7pk27a9r0u9f3\n",
              "KcFh0xnT0sMnb01KSzS7fADAGEOHFUCE5g6fXttTGx4fqG31RKxPzUgKjw6cNiVN8Q66rwCAoUWH\n",
              "FUAEd6JDX5w7Xl+cO16GYeijwy2h8FpSq/cqGrW3rl1769r16BvlindYtWhqenh8YEpGktnlAwBG\n",
              "ITqsAAaspcunN3bXhbuvVS1dEeuT0xPDd906fWqGEuLovgIAThyBFcCgGIahkurWcPf13f0N8gWO\n",
              "/nESZ7fqtClp4e7rtMwkWSzcNhYA8OkRWAFERZvHrzf21GlTaSjAVjZ1RqxPTE0Ih9czpqUryclE\n",
              "EgBgYAisAKLOMAztqWkL3Ta2pFab9zXIGwiG1x02ixbkp4XvulWUnUz3FQDQJwIrgCHX7vHr7b31\n",
              "odvGltboQENk93W8Oz58163FBRlKiXeYVCkAIBbxb3IAhlyS065zTsrWOSdlyzAM7atrD5+49fbe\n",
              "eh1q7tLjmw/o8c0HZLdadMrk1NCls4qydFJuCt1XABjj6LACMFWnN6C399WH77q1r649Yj0rxRme\n",
              "ff1MYYbcCXRfAWCsocMKwFQJcTadPT1LZ0/PkiTtr28Pz76+WVanmlaPnnzvoJ5876BsVotOnjQu\n",
              "fNetmbkuWa10XwFgtKPDCiBmdfkC2lLeEJp9LalRWW1k9zUj2amzijK0pChTZxVmKjUpzqRKAQBD\n",
              "icAKYMQ40NAR0X3t8AbCa1aLdGp+mn71Lycrxx1vYpUAgGhjJADAiDEpLVFXLpqsKxdNltcf1Lvl\n",
              "DdpYWquXdlapvL5Dm/c1aEdlM4EVAEYZAiuAESnObtUZBRlaNDVdOw81q7y+Q6dMTtXZM7LMLg0A\n",
              "EGVWswsAgBPxp3f264099Yp3WHX/8mLZOAkLAEadqAbW559/XvPnz9e8efM0e/Zs/fGPf5Qk1dTU\n",
              "6Pzzz1dhYaFmz56tV199Nfwzg10DgPK6dt3z/C5J0uoLTtKUjCSTKwIADIWojQQYhqErr7xSGzdu\n",
              "1Ny5c1VeXq4ZM2bo0ksv1e23365FixbpxRdf1JYtW/SlL31J+/btk8PhGPQagLEtEDR0y5Pb1OkL\n",
              "6Ixp6bpq0WSzSwIADJGodlgtFouampokSS0tLUpPT5fT6dS6det0/fXXS5IWLFig8ePHa9OmTZI0\n",
              "6DUAY9t/vr5P7+5vVLLTrvsun8v1WAFgFItah9ViseiJJ57QpZdeqqSkJDU2Nuqpp55Sa2urfD6f\n",
              "cnJywvvm5+eroqJC9fX1g1rrjcfjkcfjidgWCAR63RfAyLa7ulW/eKlEknTnF0/SxNREkysCAAyl\n",
              "qHVY/X6/fvrTn+qpp57S/v379Y9//ENXXXWV/H5/tJ6iX2vWrJHb7Y742Lx587A8N4Dh4wsEdfOT\n",
              "2+T1B3X29EytOHWS2SUBAIZY1ALr1q1bdejQIZ111lmSQv+EP3HiRH344Yey2+2qqqoK71teXq68\n",
              "vDylp6cPaq03q1evVnNzc8THwoULo/XyAMSI32ws04cHm+VOcOjnl82VxcIoAACMdlELrJMmTdLh\n",
              "w4f18ccfS5L27NmjsrIyTZ8+XcuXL9fDDz8sSdqyZYsqKyu1ZMkSSRr02rGcTqdcLlfEh81mi9bL\n",
              "AxADdh5q1q/+sVuS9ONls5Tt4gYBADAWRG2GNTs7W4888ohWrFghq9WqYDCohx56SHl5ebr33nt1\n",
              "1VVXqbCwUHFxcXrsscfCZ/oPdg3A2OLxB3Tzum3yBw1dMDtHFxePN7skAMAwsRiGYZhdxFBZtWqV\n",
              "1q5da3YZAKLgvhd36dcby5SeFKeX/u9ZSk92ml0SAGCYcKcrADHv/YpGPbypTJL0sy/NIawCwBhD\n",
              "YAUQ0zq9Ad2ybpuChvSlkyfo/Nk5n/xDAIBRhcAKIKb94m8l2lvXrmyXU3dfNMvscgAAJiCwAohZ\n",
              "b5XV6z/f2CdJuveyuXInctIlAIxFBFYAManN49f31m+TJH1l4SQtnZ5lckUAALMQWAHEpHue/1gH\n",
              "Gzs1MTVBd3xhptnlAABMRGAFEHM2ldbqf96pkCT94vJiJTujdsloAMAIRGAFEFOaO3y6bf2HkqSV\n",
              "Z+Tr9GnpJlcEADAbgRVATPnRX3aqqqVLUzKSdNv5M8wuBwAQAwisAGLG33ZW6akPKmW1SPcvL1ZC\n",
              "nM3skgAAMYDACiAm1Ld5dMfT2yVJ1y2ZplMmp5pcEQAgVhBYAZjOMAzd+ewO1bV5NT07Rd89t9Ds\n",
              "kgAAMYTACsB0f/nwsJ7fXiW71aIHVhTLaWcUAABwFIEVgKlqWrp05zM7JEn/57OFmj3BbXJFAIBY\n",
              "Q2AFYBrDMHT7U9vV3OnTnAlu3Xj2NLNLAgDEIAIrANM8+e5B/XNXjeJsVj2wolgOG38kAQCOx7sD\n",
              "AFMcbOzQj5/7SJJ08+eKVJSdYnJFAIBYRWAFMOyCQUO3rv9QbR6/TpmcqmvOnGp2SQCAGEZgBTDs\n",
              "Hntnv94sq1e8w6r7lxfLZrWYXRIAIIYRWAEMq/K6dq15fpckafUFJ2lKRpLJFQEAYh2BFcCwCQQN\n",
              "3fLkNnX6AjpjWrquWjTZ7JIAACMAgRXAsPn963v17v5GJTvtuu/yubIyCgAAGAACK4BhUVrdqvv/\n",
              "VipJuvOLJ2liaqLJFQEARgoCK4Ah5wsEdfO6bfIGgjp7eqZWnDrJ7JIAACMIgRXAkPvNxjJtr2yW\n",
              "O8Ghn182VxYLowAAgIEjsAIYUjsqm/Wrf+yWJP142Sxlu+JNrggAMNIQWAEMGY8/oJvXbZM/aOiC\n",
              "2Tm6uHi82SUBAEYgAiuAIfPvL+9WSXWr0pPi9NNLZjMKAAAYFAIrgCHxfkWjfrupTJJ0z6VzlJ7s\n",
              "NLkiAMBIRWAFEHWd3oBuWbdNQUP60skT9PlZOWaXBAAYwQisAKLuvr/t0t66dmW7nLr7ollmlwMA\n",
              "GOEIrACi6q2yej36Rrkk6d7L5sqd6DC3IADAiEdgBRA1bR6/vrd+myTpKwvztHR6lskVAQBGAwIr\n",
              "gKj52V8/1sHGTk1MTdAdXzjJ7HIAAKMEgRVAVGwsqdHjmyskSb+4vFjJTrvJFQEARgsCK4AT1tzh\n",
              "0+0btkuSvr44X6dPSze5IgDAaEJgBXDCfvSXnapq6dLUjCTd+vkZZpcDABhlCKwATsiLO6r01AeV\n",
              "slqk+1cUKyHOZnZJAIBRhsAKYNDq2zy64+nQKMB1S6Zpfl6qyRUBAEYjAiuAQTEMQz94Zofq272a\n",
              "np2i755baHZJAIBRisAKYFD+vO2QXthRJbvVogdWFMtpZxQAADA0CKwAPrXqli798NmdkqT/89lC\n",
              "zZ7gNrkiAMBoRmAF8KkYhqHbN3yo5k6f5kxw68azp5ldEgBglItqYPV4PLrppptUWFioOXPm6Mor\n",
              "r5Qk7d69W2eccYaKioq0YMEC7dy5M/wzg10DYI4n3z2oV0pqFWe36oEVxXLY+HsvAGBoRfWd5vbb\n",
              "b5fFYlFpaam2b9+u+++/X5J03XXX6dprr1Vpaaluu+02rVy5Mvwzg10DMPwONnbox899JEm6+bwi\n",
              "FWWnmFwRAGAssBiGYUTjgdrb25Wbm6uDBw/K5XKFt9fU1KigoEANDQ2y2+0yDEO5ubl6/fXX5XK5\n",
              "BrVWUFAwoJpWrVqltWvXRuPlAWNeMGjoyt+/ozfL6nXK5FStu+502awWs8sCAIwBUbvZd1lZmdLS\n",
              "0nTPPffo5ZdfVkJCgu6++26NGzdOubm5sttDT2WxWJSXl6eKigq53e5BrfUWWD0ejzweT8S2QCAQ\n",
              "rZcHjHn//fZ+vVlWrwSHTQ8sLyasAgCGTdRGAvx+v/bv36+ZM2fq3Xff1a9+9St9+ctflt/vj9ZT\n",
              "9GvNmjVyu90RH5s3bx6W5wZGu3117fr5C7skSasvnKH8jCSTKwIAjCVRC6x5eXmyWq366le/Kkk6\n",
              "+eSTNWXKFO3fv1+HDx8OB1fDMFRRUaG8vDxNmjRpUGu9Wb16tZqbmyM+Fi5cGK2XB4xZgaChW57c\n",
              "pk5fQGdMS9eVp002uyQAwBgTtcCakZGhc845R3/7298kSfv27dO+ffu0ePFizZ8/X4899pgkacOG\n",
              "DZo4caIKCgqUlZU1qLXeOJ1OuVyuiA+bjQuZAyfqd6/t1Xv7G5XstOu+y+fKyigAAGCYRe2kK0na\n",
              "u3evvvGNb6iurk5Wq1U//OEPddlll6mkpEQrV65UfX29XC6XHn30Uc2ZM0eSBr02EJx0BZyY0upW\n",
              "ffFXr8sbCOq+y+ZqxYJJZpcEABiDohpYYw2BFRg8XyCoS3/9prZXNuvs6Zn6z5ULZLHQXQUADD+u\n",
              "+A2gV79+pUzbK5vlTnDo55fNJawCAExDYAVwnB2VzXrwn7slST9eNkvZrniTKwIAjGUEVgARPP6A\n",
              "bl63Tf6goQvn5Oji4vFmlwQAGOMIrAAi/PvLu1VS3ar0pDj9ZNlsRgEAAKYjsAIIe29/o367qUyS\n",
              "dM+lc5Se7DS5IgAACKwAunV6A7rlyW0KGtKlJ0/Q52flmF0SAACSCKwAut33t13aV9euHFe87rpo\n",
              "ltnlAAAQRmAFoDfL6vToG+WSpJ9fNkfuRIe5BQEA0AOBFRjj2jx+fe/JDyVJX1mYp6XTs0yuCACA\n",
              "SARWYIz72V8/UmVTpyamJuiOL5xkdjkAAByHwAqMYRtLavT45gOSpF9cXqxkp93kigAAOB6BFRij\n",
              "mjt8um1DaBTg64vzdfq0dJMrAgCgdwRWYIy6+y87Vd3i0dSMJN36+RlmlwMAQJ8IrMAY9OKOKj39\n",
              "QaWsFun+FcVKiLOZXRIAAH0isAJjTH2bR3c8vV2SdN2SaZqfl2pyRQAA9I/ACowhhmHojqd3qL7d\n",
              "q+nZKfruuYVmlwQAwCcisAJjyJ+3HdKLO6tkt1r0wIpiOe2MAgAAYh+BFRgjqlu6dOczOyRJ3z6n\n",
              "ULMnuE2uCACAgSGwAmOAYRi6fcOHaunya84Et25YOs3skgAAGDACKzAGrHv3gF4pqVWc3aoHVhTL\n",
              "YeNXHwAwcvCuBYxyBxs79JPnPpYk3fK5IhVlp5hcEQAAnw6BFRjFgkFDt67/UG0ev06dnKpvfGaq\n",
              "2SUBAPCpEViBUey/396vN8vqleCw6f7lxbJZLWaXBADAp0ZgBUapfXXtWvNCaBRg9YUzlJ+RZHJF\n",
              "AAAMDoEVGIUCQUM3r9uqLl9QiwvSdeVpk80uCQCAQSOwAqPQ717bq/crmpTstOu+y4tlZRQAADCC\n",
              "EViBUaa0ulUPvFQqSfrhF2dqwrgEkysCAODEEFiBUcQXCGrVuq3yBoL67IwsLT91otklAQBwwgis\n",
              "wCjy/17Zox2VLXInOPTzS+fIYmEUAAAw8hFYgVFiR2WzHvrnHknSj5fNUpYr3uSKAACIDgIrMAp4\n",
              "/AGtWrdV/qChC+fk6OLi8WaXBABA1BBYgVHg3/6+W6XVbcpIjtNPls1mFAAAMKoQWIER7r39jXrk\n",
              "1TJJ0s++NEfpyU6TKwIAILoIrMAI1ukN6JYntyloSJeePEGfn5VjdkkAAEQdgRUYwe59cZf21bUr\n",
              "xxWvuy6aZXY5AAAMCQIrMEK9WVanP7xZLkm69/K5cic6zC0IAIAhQmAFRqDWLp++9+SHkqSvLMzT\n",
              "kqJMkysCAGDoEFiBEeie5z9WZVOnJqYm6I4vnGR2OQAADCkCKzDCvFJSo8c3H5Ak3b+8WMlOu8kV\n",
              "AQAwtAiswAjS3OHT7RtCowBXL56iRVPTTa4IAIChR2AFRpC7/7JT1S0eTc1I0q3nTze7HAAAhgWB\n",
              "FRghXtxxWE9/UCmrRbp/RbHiHTazSwIAYFgQWIERoK7Nozue3iFJun7JNM3PSzW5IgAAhg+BFYhx\n",
              "hmHoB0/vUH27VzNyUvSdcwvNLgkAgGEV9cD66KOPymKx6JlnnpEk1dTU6Pzzz1dhYaFmz56tV199\n",
              "NbzvYNeAseTP2w7pxZ1Vslstun95sZx2RgEAAGNLVANreXm5/uM//kOLFi0Kb7v99tu1aNEi7d69\n",
              "W48++qiuuOIK+Xy+E1oDxorqli7d+UxoFODb5xRq9gS3yRUBADD8ohZYg8GgrrnmGj344INyOp3h\n",
              "7evWrdP1118vSVqwYIHGjx+vTZs2ndAaMBYYhqHbNnyoli6/5k5064al08wuCQAAU0TtiuNr167V\n",
              "4sWLdcopp4S31dfXy+fzKScnJ7wtPz9fFRUVg17ri8fjkcfjidgWCASi8dIAUzyx5YA2ltQqzm7V\n",
              "A8uL5bAxcg4AGJui8g64Y8cObdiwQT/4wQ+i8XCDsmbNGrnd7oiPzZs3m1YPcCIONHToJ899JEm6\n",
              "5XNFKsxOMbkiAADME5XA+tprr6m8vFyFhYXKz8/X22+/rWuvvVbr1q2T3W5XVVVVeN/y8nLl5eUp\n",
              "PT19UGt9Wb16tZqbmyM+Fi5cGI2XBwyrYNDQres/VLs3oFMnp+obn5lqdkkAAJgqKoH1hhtu0OHD\n",
              "h1VeXq7y8nItWrRIjzzyiG644QYtX75cDz/8sCRpy5Ytqqys1JIlSyRp0Gu9cTqdcrlcER82G2dT\n",
              "Y+T5r7fK9dbeeiU4bLp/ebFsVovZJQEAYKqozbD25d5779VVV12lwsJCxcXF6bHHHpPD4TihNWC0\n",
              "2lvbpp+/uEuStPrCGcrPSDK5IgAAzGcxDMMwu4ihsmrVKq1du9bsMoABCQQNLX/4Tb1f0aTFBen6\n",
              "76tPk5XuKgAA3OkKiBX/8dpevV/RpGSnXfddXkxYBQCgG4EViAElVa1a+1KpJOmHX5ypCeMSTK4I\n",
              "AIDYQWAFTOYLBLVq3VZ5A0F9dkaWlp860eySAACIKQRWwGT/75U92nmoRe4Eh35+6RxZLIwCAADQ\n",
              "E4EVMNH2g8166J97JEk/uWS2slzxJlcEAEDsIbACJvH4A7r5ya3yBw1dOCdHF83NNbskAABiEoEV\n",
              "MMm//X23SqvblJEcp58sm80oAAAAfSCwAiZ4b3+DHnm1TJL0sy/NUXqy0+SKAACIXQRWYJh1eP26\n",
              "ed02BQ3p0vkT9PlZOWaXBABATCOwAsPsvhdLVF7foRxXvO66aJbZ5QAAEPMIrMAwerOsTn94s1yS\n",
              "dO/lc+VOcJhbEAAAIwCBFRgmrV0+fe/JDyVJV5yWpyVFmSZXBADAyEBgBYbJz/76sSqbOjUxNUHf\n",
              "v/Aks8sBAGDEILACw+CVXTX63y0HJEn3Ly9WstNuckUAAIwcBFZgiDV1eHXbhtAowNWLp2jR1HST\n",
              "KwIAYGQhsAJD7O4/71RNq0dTM5N06/nTzS4HAIARh8AKDKEXth/WM1sPyWqRHlherHiHzeySAAAY\n",
              "cQiswBCpa/Pojmd2SJKuXzJNJ+elmlwRAAAjE4EVGAKGYegHT+9QQ7tXM3JS9J1zC80uCQCAEYvA\n",
              "CgyBZ7ce0os7q2S3WvTAimI57YwCAAAwWARWIMqqmrv0w2dDowDfPqdQs8a7Ta4IAICRjcAKRJFh\n",
              "GLptw4dq6fJr7kS3blg6zeySAAAY8QisQBQ9seWANpXWKs5u1QPLi+Ww8SsGAMCJ4t0UiJIDDR36\n",
              "yXMfSZJu+VyRCrNTTK4IAIDRgcAKREEwaOh767ep3RvQqZNT9Y3PTDW7JAAARg0CKxAF//VWud7e\n",
              "26AEh033Ly+WzWoxuyQAAEYNAitwgvbWtunnL+6SJH3/whnKz0gyuSIAAEYXAitwAgJBQzc/uU1d\n",
              "vqAWF6Trq6dNNrskAABGHQIrcAIeeXWvPqhoUrLTrvsuL5aVUQAAAKKOwAoMUklVq/7t76WSpB9e\n",
              "NFMTxiWYXBEAAKMTgRUYBF8gqFXrtsobCOqcGVlafspEs0sCAGDUIrACg/DQP/do56EWuRMcWnPp\n",
              "HFksjAIAADBUCKzAp7T9YLMeemWPJOknl8xWlive5IoAABjdCKzAp9DlC+jmJ7cqEDT0hTm5umhu\n",
              "rtklAQAw6hFYgU/h314uVWl1mzKS4/STS2YzCgAAwDAgsAID9N7+Bj3y6l5J0s++NEdpSXEmVwQA\n",
              "wNhAYAUGoMPr183rtskwpEvnT9DnZ+WYXRIAAGMGgRUYgPteLFF5fYdyXPG666JZZpcDAMCYQmAF\n",
              "PsGbe+r0hzfLJUn3Xj5X7gSHuQUBADDGEFiBfrR2+fS99R9Kkq44LU9LijJNrggAgLGHwAr046fP\n",
              "fazKpk5NSkvQ9y88yexyAAAYkwisQB9e2VWjJ949IItF+sXlxUp22s0uCQCAMYnACvSiqcOr2zaE\n",
              "RgG+fsYULZqabnJFAACMXVELrF1dXbrkkktUVFSk4uJinXfeedqzJ3T7ypqaGp1//vkqLCzU7Nmz\n",
              "9eqrr4Z/brBrwFC66887VdPq0dTMJN16/nSzywEAYEyLaof12muvVUlJibZt26Zly5bpmmuukSTd\n",
              "fvvtWrRokXbv3q1HH31UV1xxhXw+3wmtAUPlhe2H9ezWQ7JapAeWFyveYTO7JAAAxrSoBdb4+Hhd\n",
              "eOGF4VtVLlq0SOXl5ZKkdevW6frrr5ckLViwQOPHj9emTZtOaA0YCnVtHt3xzA5J0vVLpunkvFST\n",
              "KwIAAEN2Fskvf/lLLVu2TPX19fL5fMrJOXpnoPz8fFVUVAx6rTcej0cejydiWyAQiPKrwmhmGIa+\n",
              "/9R2NbR7NSMnRd85t9DskgAAgIbopKt77rlHe/bs0Zo1a4bi4Xu1Zs0aud3uiI/NmzcP2/Nj5Htm\n",
              "a6Ve+qhadqtFD6woltPOKAAAALEg6oH1/vvv11NPPaUXXnhBiYmJSk9Pl91uV1VVVXif8vJy5eXl\n",
              "DXqtN6tXr1Zzc3PEx8KFC6P98jBK1bR26a5nd0qSirJTtLOyRRtLavTRoRbVt3kUDBomVwgAwNgV\n",
              "1ZGAtWvX6vHHH9fLL7+scePGhbcvX75cDz/8sO6++25t2bJFlZWVWrJkyQmtHcvpdMrpdEZss9no\n",
              "kGFg3t/fpJYuvyTpo8MturX7klZHOGwWZaXEKzPFqWyXU9mueGW7jnwfH9qWEq9xiY7wHDcAAIgO\n",
              "i2EYUWkdHTx4UJMmTdLUqVOVkpIiKRQi33nnHVVXV+uqq67Svn37FBcXp4ceekhnn322JA16bSBW\n",
              "rVqltWvXRuPlYZTzBYL664eHtbe2TTWtHlW3dKm6xaOa1i7VtXkH/DhxNmtEqM1KcSqrO9xmu5zK\n",
              "Sgl9dicQbAEAGKioBdZYRGBFNPgCQdW1eVTdEgqyNS1dEaG2uqVLta0e1bd/imBrt0YE2NDnyFCb\n",
              "5YqXK95OsAUAjHncaxL4BA6bVbnuBOW6E/rdz+sPqrbtSKgNdWePdmo9qmkJfd/Y4ZPXH9SBhk4d\n",
              "aOjs9zHjHdaIAJudEq8slzM8gpDlCn2f4iTYAgBGLwIrECVxdqsmjEvQhHH9B9suX0C1rZEhtrrV\n",
              "c1zIbe70qcsXVEVDhyoaOvp9zASHLRxqs3rO1UbM2cYr2cmvPABg5OHdCxhm8Q6bJqUlalJaYr/7\n",
              "HQm2Pedpq1u6Q25rqItb3dKlli6/On0Bldd3qLy+/2CbFGc7/mSxY0JtVopTSQRbAEAM4V0JiFED\n",
              "Dbad3oBqWiPnaiPnbEPhttXjV7s3oL117dpb197vYyY77aHRgx7jCFnHhNpsV7wS4rgSBwBg6BFY\n",
              "gREuIc6myelJmpye1O9+HV5/uCtb3dp7qK1p9ajN4w991Pq1t7b/YJsSb48IsFnh2drucNv9dbyD\n",
              "YAsAGDwCKzBGJMbZlZ9hV35G/8G2zePvnq0NjSH0FnKrmrvU6Quotcuv1q427alp6/cxXd3B9kio\n",
              "PXIiWc8rI2SmEGwBAL0jsAKIkOy0KzkzWVMzk/vcxzCMULBtPXpVhOpjQ273CWRdvqBauvxq6WrT\n",
              "7k8ItuMSHeGu7LGhNjPlyGcnt80FgDGGwArgU7NYLEqJdygl3qFpnxBsW3t0bKt7jCHUHPO9xx9U\n",
              "U4dPTR0+lVS39vv8aUlxR2/K0GMcoWfIzUxxymGL+t2nAQAmILACGDIWi0WueIdc8Q4VZKX0uZ9h\n",
              "GGrp9Edc/eDI10eujnAk5HoDQTW0e9XQ7tWuqv6DbXpSXPedxpw95mxDIffI9oxkgi0AxDoCKwDT\n",
              "WSwWuRMdcic6VJTdf7Bt6vBFniwWvp6tJyLk+gKG6tu9qm/36uPD/T23lJ50JND2CLXHdGzTk+Jk\n",
              "J9gCgCkIrABGDIvFotSkOKUmxWl6Tt/BNhg01NTp6z3U9vi+ptUjf9BQXZtHdW0efdRPsLVapPTk\n",
              "Y+4ydsz1bLNSnEpPdspm5a5jABBNBFYAo47ValFaUpzSkuJ0Uq6rz/2CQUMNHd7wSWI1vd2kocWj\n",
              "2jaPAkFDta0e1bZ6tEMtfT+3ReEbMRydsz1yPdsjXdtQx9ZKsAWAASGwAhizrFaLMpJDc6wz1Xew\n",
              "DQQNNbR7u7uzR8Ls8SG3ttWjoKHuTq6n3+e2dz/3kRszZPe4hm3PkJuaSLAFAAIrAHwCm9WizJTQ\n",
              "JbUkd5/7BYKG6ts8EV3aIyH36KW+QuMH/qChqpYuVbV0SWru8zHtVsvRTm2PudqsY+46lprokMVC\n",
              "sAUwOhFYASBKbFZLaLbVFa/+gq0/EFR9d8f26BUQjrm9bmuX6tu98gcNHWru0qHmrn6fO85mVWaK\n",
              "s99b6ma7nHInEGwBjDwEVgAYZnabNRwi++MLBFXX3bGNPHnsSKgNfV/f7pU3EFRlU6cqmzr7fcw4\n",
              "uzXiZLGslPgeIffoNleCnWALIGYQWAEgRjlsVuW6E5TrTuh3P68/qNo2zzEnjUWG2uqWLjV2+OT1\n",
              "B3WwsVMHG/sPtk679fhQ28tYQoqTYAtg6BFYAWCEi7NbNWFcgiaM6z/YevwB1bZ6elwB4cgYwtGQ\n",
              "W9PqUVOHTx5/UBUNHapo6Oj3MRMctnCHNqvH5b2O3H3sSCc52cnbDYDB408QABgjnHabJqYmamJq\n",
              "Yr/7dfmOBNtj5mojvu9SS5dfnb6A9td3aH99/8E2Mc4WGWaPCbVHvk8i2ALoBX8yAAAixDtsmpSW\n",
              "qElpnxxsj1794Og4Qvj2ut230231+NXhDWhfXbv21bX3+5jJTnv39WqPdmePXs/2aMhNjOPtCxhL\n",
              "+I0HAAxKvMOmvPRE5aX3H2w7vP6jIbb1+E5taM7WozaPP/RR69fe2v6DbUp3sD0u1B7TsY132KL5\n",
              "kgGYhMAKABhSiXF25WfYlZ+R1O9+bR5/RJitaYkcSzjyucMbUKvHr9Zav8o+Idi64u1HRw+6b6nb\n",
              "88SxbFe8MlOcBFsgxhFYAQAxIdlpV3JmsqZmJve5j2EYoWDbV6jtMaLQ5Quqpcuvlq427a5p6/e5\n",
              "xyU6eszXHgm1R0YQQt9npjjltBNsATMQWAEAI4bFYlFKvEMp8Q5N+4Rg29rdsT3uzmPHfO/xB9XU\n",
              "4VNTh0+l1f0H29RERzjEhgLt0ZB7ZEQhM9mpOLs12i8dGNMIrACAUcdiscgV75Ar3qGCrJQ+9zMM\n",
              "Qy2d/ogAW916fKitafHIGwiqscOnxg6fdlW19vv86Ulxyuxxg4bIOdvQtoxkpxw2gi0wEARWAMCY\n",
              "ZbFY5E50yJ3oUGF2/8G2udN3NNRG3HnMExFyfQFD9e1e1bd7+w22Fkso2Pacpz021GalxCsjOU52\n",
              "gi3GOAIrAACfwGKxaFxinMYlxml6Tv/BtrHDd8xcbeRYwpETy/xBQ3VtXtW1efXR4f6eW8pIdkbe\n",
              "ZSwlPuJqCNkup9KTnbJZuesYRicCKwAAUWKxWJSWFKe0pDidlNv3fsGgocYOb4/u7PGhtrrFo9o2\n",
              "jwJBQ7WtHtW2eiS19PmY1nCwPXrr3J6B9sicbXoSwRYjD4EVAIBhZrValJ4c6orOlKvP/QJBQw3t\n",
              "3u6O7ZGrIhwNuUe6uLWtHgUNhcYUWj3aXtn3c9usFmV2d2wze4wjHBty0xLjZCXYIkYQWAEAiFE2\n",
              "q0WZKaFLaknuPvcLBA3Vt3kibqUbMWfb3bmt6+7YVrV0qaqlS1Jzn49pt1qUleJUZo+7jPXs1B65\n",
              "aUNqokMWC8EWQ4vACgDACGezWkLdUVe8Zk/oO9j6A0HVd3dsjwu14bEEj+rbQzO2h5q7dKi5q9/n\n",
              "dtgsR0NsSrz+ZeEkLZ2eFe2XiDGOwAoAwBhht1nDndG+dHoDqmzq0PbKZn14sFnbDzZrx6FmdfmC\n",
              "ve7vCxiqbOpUZVOnJKmh3UtgRdQRWAEAGAOCQSPcXa1qDo0E9PZ1S5d/QI8XuiyXUzlup3K6Q3CO\n",
              "K14Xzu3nbDNgkAisAACMcJ3eQGgutbk7ePb4urrHFQh8AWNAj5fgsCnHHZpZzQlfFza+e1voc1YK\n",
              "Nz7A8CGwAgAQo4arK5rtDn0+Ekhd8XZOpEJMIbACAGCC/rqiVS1dqm4+eoOBgTiuK3okhPb4OpOu\n",
              "KEYoAisAAFEUDBqqa/eoutkTvnxUdc8gOoiuaEZyj45od3c0y0VXFGMHgRUAgAGiKwqYg8AKABjz\n",
              "+uqKHjsz2nqCXdEjJywdCaQpTrqiwEAQWAEAo1qH1x9xklJ1i+eEuqKJcbaI8Bk6can7zk90RYEh\n",
              "QWAFAIxIQ9EVzUx2dl+yia4oEEsIrACAmHNsV7Sq2RMRQmtaotMV7Xld0cxkp+x0RYGYRGAFAMSE\n",
              "324q0/r3Dn6qrmhvkuJsmpiaqAmpCZowLkETUxOUmhgnu80im9Uih83a/dkim9WqTm9AFfUdOtTU\n",
              "1b2txz5Wq2w2ixzW0Ha7zXp0H6tVViudVmA4EFgBADFh/XsHtbum7YQfp90bUEl1q0qqW6NQVf8s\n",
              "FoVCrdUiu80i+5FQa7V0B11rOOjae+5jtUbsH/G5t/3Da7393LGPeTSQRz5mz7U+9ul+jCP7WC1i\n",
              "/AExIeYD6+7du/W1r31NdXV1crvd+sMf/qBZs2aZXRYAIMr+9M3T9EFFkwJBQ75AUIGgIX/AkC8Y\n",
              "7N5mKBAMdn825A8E5Q8a8vfY/8g+/oDRvXb0656P6Q92/+yxX/d4zGO/7m36wDAkbyAoBST5hv0/\n",
              "2bBwdAfdI6HXZrVGdKLt1t4610e/tx+zf899jj7u8fscH96tvfxcfyH+E/bprptAPjLEfGC97rrr\n",
              "dO2112rlypVav369Vq5cqS1btphdFgAgyrJS4vX5WTlml9GnYLBHCO4ZdrsDdM/Q/In79AzExwRx\n",
              "XzCoQODoPhFhPWh0r/UI9D0es9dAf8z+PUO8P9D9mN0fvfEFDPkCgWH+rz18jg+1fXS3j4T13kJw\n",
              "xOiItbtzffSxenbbHT1Cf2jNGh45OXZcxX7cz/WyT79/WRg9gTymA2tNTY3effddvfTSS5Kkyy67\n",
              "TDfddJP27NmjgoKCiH09Ho88Hk/EtsAo/gUDAAwvq9WiOKtFcRqdJ2YFg4YCRi+h9piA22tnurd9\n",
              "Ih6je3tv+4RDeyh8RzzvcaG9e58ej3nsXxYC3T/rO+YvCX2doOcPrwWH9z/4MOmrA94zcIcDbnc4\n",
              "P39Wjr551lSzS48Q04H1wIEDys3Nld0eKtNisSgvL08VFRXHBdY1a9boRz/6UcS2RYsWDVutAACM\n",
              "ZFarRVZZ5LBJks3scqLOMIxwcA13l48LtT1D+DH7dHe+e90naCjQ2zhJfyH+2H3Ca73/ZaG3QN+z\n",
              "2+4L9B/IPf6BB/JZ413R+s8eNTEdWD+N1atXa9WqVRHb7rzzTpOqAQAAscRi6f5n+tGXxSWFAnnQ\n",
              "ULgDHRlme+9SB3rpRPsChialJZj9co4T04F10qRJOnz4sPx+v+x2uwzDUEVFhfLy8o7b1+l0yul0\n",
              "Rmyz2Ubp/5UAAAA9WCwW2SySzTo6s09MD+JkZWVp/vz5euyxxyRJGzZs0MSJE48bBwAAAMDoFdMd\n",
              "Vkn67W9/q5UrV+qee+6Ry+XSo48+anZJAAAAGEYxH1inT5+ut956y+wyAAAAYJKYHgkAAAAACKwA\n",
              "AACIaQRWAAAAxDQCKwAAAGIagRUAAAAxjcAKAACAmEZgBQAAQEwjsAIAACCmWQzDMMwuYqhceuml\n",
              "ys/PH5bnCgQC2rx5sxYuXCibbXTex3e04xiObBy/kY9jOPJxDEc+M47h5MmT9Z3vfKfffUZ1YB1O\n",
              "LS0tcrvdam5ulsvlMrscDALHcGTj+I18HMORj2M48sXqMWQkAAAAADGNwAoAAICYRmAFAABATCOw\n",
              "RonT6dRdd90lp9NpdikYJI7hyMbxG/k4hiMfx3Dki9VjyElXAAAAiGl0WAEAABDTCKwAAACIaQRW\n",
              "AAAAxDQC66fw7W9/W/n5+bJYLNq6dWuf+/3+979XYWGhpk2bpm9+85vy+XzDVyT6NZBjuHHjRiUk\n",
              "JGjevHnhj87OzuEtFL3q6urSJZdcoqKiIhUXF+u8887Tnj17et33ueee04wZM1RYWKhLL71ULS0t\n",
              "w1wtejPQY1heXi6bzRbxe1hWVmZCxejN5z73Oc2dO1fz5s3TmWeeqQ8++KDX/Xg/jF0DOYYx9X5o\n",
              "YMA2bdpkHDhwwJg8ebLxwQcf9LrP3r17jdzcXOPw4cNGMBg0LrroIuOhhx4a3kLRp4Ecw1deecUo\n",
              "Li4e1rowMJ2dncZf//pXIxgMGoZhGA8++KCxZMmS4/ZrbW01srKyjI8//tgwDMP41re+Zdxyyy3D\n",
              "WSr6MNBjuG/fPsPtdg9vcRiwxsbG8NdPPfWUMXfu3OP24f0wtg3kGMbS+yEd1k/hrLPO0sSJE/vd\n",
              "Z/369br44ouVk5Mji8Wi66+/Xo8//vgwVYhPMpBjiNgVHx+vCy+8UBaLRZK0aNEilZeXH7ffCy+8\n",
              "oJNPPlkzZsyQJN144438HsaIgR5DxLZx48aFv25ubg4fz554P4xtAzmGscRudgGjTUVFhSZPnhz+\n",
              "Pj8/XxUVFSZWhMEoKyvT/PnzZbPZ9PWvf1033nij2SWhF7/85S+1bNmy47b39nt4+PBh+f1+2e38\n",
              "sRdL+jqGktTe3q4FCxYoEAjokksu0R133CGbzTbMFaIv//qv/6pXXnlFkvT8888ft877Yez7pGMo\n",
              "xc77IX9yA8eYP3++Dh48KLfbrYMHD+rCCy9URkaGVqxYYXZp6OGee+7Rnj179I9//MPsUjBI/R3D\n",
              "3NxcVVZWKisrSw0NDfryl7+sBx54QLfeeqsJlaI3//Vf/yVJ+uMf/6jbbrutz8CD2PVJxzCW3g8Z\n",
              "CYiyvLw87d+/P/x9eXm58vLyTKwIn5bL5ZLb7ZYkTZw4UV/5ylf02muvmVwVerr//vv11FNP6YUX\n",
              "XlBiYuJx6739Hubm5tJdjSGfdAydTqeysrIkSWlpabr66qv5PYxRX/va1/TKK6+ovr4+YjvvhyNH\n",
              "X8cwlt4PCaxRdtlll+nPf/6zqqqqZBiGHn74Yf3Lv/yL2WXhUzh8+LCCwaAkqbW1Vc8995xOPvlk\n",
              "k6vCEWvXrtXjjz+uv//97xEzWD2df/75ev/997Vr1y5J0q9//Wt+D2PIQI5hTU1N+Ixyj8ejp556\n",
              "it/DGNHU1KRDhw6Fv3/mmWeUnp6utLS0iP14P4xdAz2GMfV+aPZZXyPJtddea0yYMMGw2WxGVlaW\n",
              "MW3aNMMwDOMb3/iG8eyzz4b3e+SRR4ypU6caU6dONa6++mrD6/WaVTKOMZBj+OCDDxozZ8405s6d\n",
              "a8ycOdO46667wmc0w1wHDhwwJBlTp041iouLjeLiYmPhwoWGYRjGnXfeafzmN78J7/vss88a06dP\n",
              "N6ZNm2YsW7bMaGpqMqts9DDQY7hhwwZj1qxZ4d/Dm266yejq6jKzdHQrLy83FixYYMyePduYO3eu\n",
              "cc4554SvusL74cgw0GMYS++HFsMwDHOiMgAAAPDJGAkAAABATCOwAgAAIKYRWAEAABDTCKwAAACI\n",
              "aQRWAAAAxDQCKwAAAGIagRUAAAAxjcAKAACAmEZgBQAAQEwjsAIAACCmEVgBAAAQ0/4/aIO6tlqL\n",
              "gvgAAAAASUVORK5CYII=\n",
              "\">\n",
              "      </div>\n",
              "      <script type=\"text/javascript\">\n",
              "        (() => {\n",
              "          const chartElement = document.getElementById(\"chart-139aa907-7d2e-4fa7-b96d-08085413a26d\");\n",
              "          async function getCodeForChartHandler(event) {\n",
              "            const chartCodeResponse =  await google.colab.kernel.invokeFunction(\n",
              "                'getCodeForChart', [\"chart-139aa907-7d2e-4fa7-b96d-08085413a26d\"], {});\n",
              "            const responseJson = chartCodeResponse.data['application/json'];\n",
              "            await google.colab.notebook.addCell(responseJson.code, 'code');\n",
              "          }\n",
              "          chartElement.onclick = getCodeForChartHandler;\n",
              "        })();\n",
              "      </script>\n",
              "      <style>\n",
              "        .colab-quickchart-chart-with-code  {\n",
              "            display: block;\n",
              "            float: left;\n",
              "            border: 1px solid transparent;\n",
              "        }\n",
              "\n",
              "        .colab-quickchart-chart-with-code:hover {\n",
              "            cursor: pointer;\n",
              "            border: 1px solid #aaa;\n",
              "        }\n",
              "      </style>"
            ]
          },
          "metadata": {}
        }
      ],
      "source": [
        "df['floors'].value_counts().to_frame()"
      ]
    },
    {
      "cell_type": "markdown",
      "metadata": {
        "id": "NkwzmAvdKBj6"
      },
      "source": [
        "### Question 4\n",
        "\n",
        "Use the function <code>boxplot</code> in the seaborn library  to  determine whether houses with a waterfront view or without a waterfront view have more price outliers.\n"
      ]
    },
    {
      "cell_type": "code",
      "execution_count": 34,
      "metadata": {
        "jupyter": {
          "outputs_hidden": false
        },
        "colab": {
          "base_uri": "https://localhost:8080/",
          "height": 482
        },
        "id": "ci96UMyWKBj6",
        "outputId": "f19303b4-ed93-4e7e-9800-8b80b2c16b20"
      },
      "outputs": [
        {
          "output_type": "execute_result",
          "data": {
            "text/plain": [
              "<Axes: xlabel='waterfront', ylabel='price'>"
            ]
          },
          "metadata": {},
          "execution_count": 34
        },
        {
          "output_type": "display_data",
          "data": {
            "text/plain": [
              "<Figure size 640x480 with 1 Axes>"
            ],
            "image/png": "[encoded data removed]"
          },
          "metadata": {}
        }
      ],
      "source": [
        "sns.boxplot(x='waterfront', y='price', data=df)"
      ]
    },
    {
      "cell_type": "markdown",
      "metadata": {
        "id": "_ojVj1QtKBj6"
      },
      "source": [
        "Boxplot shows houses without waterfront view have more outliers"
      ]
    },
    {
      "cell_type": "markdown",
      "metadata": {
        "id": "TUpU_y8ZKBj6"
      },
      "source": [
        "### Question 5\n",
        "\n",
        "Use the function <code>regplot</code>  in the seaborn library  to  determine if the feature <code>sqft_above</code> is negatively or positively correlated with price.\n"
      ]
    },
    {
      "cell_type": "code",
      "execution_count": 40,
      "metadata": {
        "jupyter": {
          "outputs_hidden": false
        },
        "colab": {
          "base_uri": "https://localhost:8080/",
          "height": 482
        },
        "id": "fJBui4lMKBj6",
        "outputId": "2d8f8ef9-fb62-4f9f-e0e4-31c4d2ebc58f"
      },
      "outputs": [
        {
          "output_type": "execute_result",
          "data": {
            "text/plain": [
              "<Axes: xlabel='sqft_above', ylabel='price'>"
            ]
          },
          "metadata": {},
          "execution_count": 40
        },
        {
          "output_type": "display_data",
          "data": {
            "text/plain": [
              "<Figure size 640x480 with 1 Axes>"
            ],
            "image/png": "[encoded data removed]"
          },
          "metadata": {}
        }
      ],
      "source": [
        "sns.regplot(x='sqft_above', y='price', data=df)"
      ]
    },
    {
      "cell_type": "markdown",
      "metadata": {
        "id": "KMHFT0imKBj7"
      },
      "source": [
        "sqft_above feature is positively correlated with price"
      ]
    },
    {
      "cell_type": "markdown",
      "metadata": {
        "id": "VLtPe2F2KBj7"
      },
      "source": [
        "We can use the Pandas method <code>corr()</code>  to find the feature other than price that is most correlated with price.\n"
      ]
    },
    {
      "cell_type": "code",
      "execution_count": 36,
      "metadata": {
        "jupyter": {
          "outputs_hidden": false
        },
        "colab": {
          "base_uri": "https://localhost:8080/"
        },
        "id": "sANmJ6TMKBj8",
        "outputId": "385130f1-52ac-44e8-c05b-fea3f0327b24"
      },
      "outputs": [
        {
          "output_type": "stream",
          "name": "stderr",
          "text": [
            "<ipython-input-36-78b4f396fb2c>:1: FutureWarning: The default value of numeric_only in DataFrame.corr is deprecated. In a future version, it will default to False. Select only valid columns or specify the value of numeric_only to silence this warning.\n",
            "  df.corr()['price'].sort_values()\n"
          ]
        },
        {
          "output_type": "execute_result",
          "data": {
            "text/plain": [
              "zipcode         -0.053203\n",
              "long             0.021626\n",
              "condition        0.036362\n",
              "yr_built         0.054012\n",
              "sqft_lot15       0.082447\n",
              "sqft_lot         0.089661\n",
              "yr_renovated     0.126434\n",
              "floors           0.256794\n",
              "waterfront       0.266369\n",
              "lat              0.307003\n",
              "bedrooms         0.308797\n",
              "sqft_basement    0.323816\n",
              "view             0.397293\n",
              "bathrooms        0.525738\n",
              "sqft_living15    0.585379\n",
              "sqft_above       0.605567\n",
              "grade            0.667434\n",
              "sqft_living      0.702035\n",
              "price            1.000000\n",
              "Name: price, dtype: float64"
            ]
          },
          "metadata": {},
          "execution_count": 36
        }
      ],
      "source": [
        "df.corr()['price'].sort_values()"
      ]
    },
    {
      "cell_type": "markdown",
      "metadata": {
        "id": "S6mG8BijKBj8"
      },
      "source": [
        "# Module 4: Model Development\n"
      ]
    },
    {
      "cell_type": "markdown",
      "metadata": {
        "id": "qwlnzfofKBj8"
      },
      "source": [
        "We can Fit a linear regression model using the  longitude feature <code>'long'</code> and  caculate the R^2.\n"
      ]
    },
    {
      "cell_type": "code",
      "execution_count": 41,
      "metadata": {
        "jupyter": {
          "outputs_hidden": false
        },
        "colab": {
          "base_uri": "https://localhost:8080/"
        },
        "id": "qq2dAJXHKBj8",
        "outputId": "65e21190-b4ff-40b0-a8dc-d12c822dceb9"
      },
      "outputs": [
        {
          "output_type": "execute_result",
          "data": {
            "text/plain": [
              "0.00046769430149007363"
            ]
          },
          "metadata": {},
          "execution_count": 41
        }
      ],
      "source": [
        "X = df[['long']]\n",
        "Y = df['price']\n",
        "lm = LinearRegression()\n",
        "lm.fit(X,Y)\n",
        "lm.score(X, Y)"
      ]
    },
    {
      "cell_type": "markdown",
      "metadata": {
        "id": "2J_eRLQCKBj9"
      },
      "source": [
        "### Question  6\n",
        "\n",
        "Fit a linear regression model to predict the <code>'price'</code> using the feature <code>'sqft_living'</code> then calculate the R^2. Take a screenshot of your code and the value of the R^2.\n"
      ]
    },
    {
      "cell_type": "code",
      "execution_count": 42,
      "metadata": {
        "jupyter": {
          "outputs_hidden": false
        },
        "colab": {
          "base_uri": "https://localhost:8080/"
        },
        "id": "Eh_PNhToKBj9",
        "outputId": "92a6d636-0ea7-4dc6-e16f-0300ddbd8594"
      },
      "outputs": [
        {
          "output_type": "execute_result",
          "data": {
            "text/plain": [
              "0.4928532179037931"
            ]
          },
          "metadata": {},
          "execution_count": 42
        }
      ],
      "source": [
        "X=df[['sqft_living']]\n",
        "Y=df['price']\n",
        "lm = LinearRegression()\n",
        "lm.fit(X,Y)\n",
        "lm.score(X,Y)"
      ]
    },
    {
      "cell_type": "markdown",
      "metadata": {
        "id": "_uKB86KLKBj9"
      },
      "source": [
        "### Question 7\n",
        "\n",
        "Fit a linear regression model to predict the <code>'price'</code> using the list of features:\n"
      ]
    },
    {
      "cell_type": "code",
      "execution_count": 44,
      "metadata": {
        "id": "QjXv2P_3KBj9"
      },
      "outputs": [],
      "source": [
        "features =[\"floors\", \"waterfront\",\"lat\" ,\"bedrooms\" ,\"sqft_basement\" ,\"view\" ,\"bathrooms\",\"sqft_living15\",\"sqft_above\",\"grade\",\"sqft_living\"]"
      ]
    },
    {
      "cell_type": "code",
      "execution_count": 45,
      "metadata": {
        "id": "SYxx6EbZKBj-"
      },
      "outputs": [],
      "source": [
        "X=df[features]\n",
        "Y=df['price']\n",
        "lm = LinearRegression()\n",
        "lm.fit(X,Y)\n",
        "y_hat=lm.predict(X)"
      ]
    },
    {
      "cell_type": "markdown",
      "metadata": {
        "id": "VCOeWj87KBj-"
      },
      "source": [
        "Then calculate the R^2. Take a screenshot of your code.\n"
      ]
    },
    {
      "cell_type": "code",
      "execution_count": 46,
      "metadata": {
        "jupyter": {
          "outputs_hidden": false
        },
        "colab": {
          "base_uri": "https://localhost:8080/"
        },
        "id": "zKBYczCnKBj-",
        "outputId": "feb0f16d-a817-4408-d6d1-ac1d95f10222"
      },
      "outputs": [
        {
          "output_type": "execute_result",
          "data": {
            "text/plain": [
              "0.6576722447699446"
            ]
          },
          "metadata": {},
          "execution_count": 46
        }
      ],
      "source": [
        "lm.score(X,Y)"
      ]
    },
    {
      "cell_type": "markdown",
      "metadata": {
        "id": "1o-I6BeEKBj_"
      },
      "source": [
        "### This will help with Question 8\n",
        "\n",
        "Create a list of tuples, the first element in the tuple contains the name of the estimator:\n",
        "\n",
        "<code>'scale'</code>\n",
        "\n",
        "<code>'polynomial'</code>\n",
        "\n",
        "<code>'model'</code>\n",
        "\n",
        "The second element in the tuple  contains the model constructor\n",
        "\n",
        "<code>StandardScaler()</code>\n",
        "\n",
        "<code>PolynomialFeatures(include_bias=False)</code>\n",
        "\n",
        "<code>LinearRegression()</code>\n"
      ]
    },
    {
      "cell_type": "code",
      "execution_count": 47,
      "metadata": {
        "id": "_MC3iHhRKBj_"
      },
      "outputs": [],
      "source": [
        "Input=[('scale',StandardScaler()),('polynomial', PolynomialFeatures(include_bias=False)),('model',LinearRegression())]"
      ]
    },
    {
      "cell_type": "markdown",
      "metadata": {
        "id": "1jV_RfCMKBkA"
      },
      "source": [
        "### Question 8\n",
        "\n",
        "Use the list to create a pipeline object to predict the 'price', fit the object using the features in the list <code>features</code>, and calculate the R^2.\n"
      ]
    },
    {
      "cell_type": "code",
      "execution_count": 48,
      "metadata": {
        "jupyter": {
          "outputs_hidden": false
        },
        "colab": {
          "base_uri": "https://localhost:8080/"
        },
        "id": "AgUQxcJIKBkA",
        "outputId": "5894d4d5-ae2f-49e9-d444-55b558397b1c"
      },
      "outputs": [
        {
          "output_type": "execute_result",
          "data": {
            "text/plain": [
              "0.7513410648797747"
            ]
          },
          "metadata": {},
          "execution_count": 48
        }
      ],
      "source": [
        "Input=[('scale',StandardScaler()),('polynomial', PolynomialFeatures(include_bias=False)),('model',LinearRegression())]\n",
        "pipe=Pipeline(Input)\n",
        "X=df[features]\n",
        "X=X.astype(float)\n",
        "Y=df['price']\n",
        "pipe.fit(X,Y)\n",
        "yhat=pipe.predict(X)\n",
        "pipe.score(X,Y)"
      ]
    },
    {
      "cell_type": "code",
      "execution_count": null,
      "metadata": {
        "id": "2kXgMNqNKBkA",
        "outputId": "22fbe982-953f-41a7-ddd4-3d75a4cdcbb4"
      },
      "outputs": [
        {
          "data": {
            "text/plain": [
              "array([349700., 559199., 449288., 393188.])"
            ]
          },
          "execution_count": 24,
          "metadata": {},
          "output_type": "execute_result"
        }
      ],
      "source": [
        "yhat[0:4]"
      ]
    },
    {
      "cell_type": "markdown",
      "metadata": {
        "id": "M6YDTT3PKBkA"
      },
      "source": [
        "# Module 5: Model Evaluation and Refinement\n"
      ]
    },
    {
      "cell_type": "markdown",
      "metadata": {
        "id": "OMylQrVbKBkB"
      },
      "source": [
        "Import the necessary modules:\n"
      ]
    },
    {
      "cell_type": "code",
      "execution_count": 49,
      "metadata": {
        "jupyter": {
          "outputs_hidden": false
        },
        "colab": {
          "base_uri": "https://localhost:8080/"
        },
        "id": "6pxorxrWKBkB",
        "outputId": "85f42e12-3cb0-49b9-fc4d-84ae8d754f38"
      },
      "outputs": [
        {
          "output_type": "stream",
          "name": "stdout",
          "text": [
            "done\n"
          ]
        }
      ],
      "source": [
        "from sklearn.model_selection import cross_val_score\n",
        "from sklearn.model_selection import train_test_split\n",
        "print(\"done\")"
      ]
    },
    {
      "cell_type": "markdown",
      "metadata": {
        "id": "ACjXQ-bkKBkB"
      },
      "source": [
        "We will split the data into training and testing sets:\n"
      ]
    },
    {
      "cell_type": "code",
      "execution_count": 50,
      "metadata": {
        "jupyter": {
          "outputs_hidden": false
        },
        "colab": {
          "base_uri": "https://localhost:8080/"
        },
        "id": "XDap3OjYKBkC",
        "outputId": "51abdbdc-0a6d-499c-870a-b70ed5401bfb"
      },
      "outputs": [
        {
          "output_type": "stream",
          "name": "stdout",
          "text": [
            "number of test samples: 3242\n",
            "number of training samples: 18371\n"
          ]
        }
      ],
      "source": [
        "features =[\"floors\", \"waterfront\",\"lat\" ,\"bedrooms\" ,\"sqft_basement\" ,\"view\" ,\"bathrooms\",\"sqft_living15\",\"sqft_above\",\"grade\",\"sqft_living\"]\n",
        "X = df[features]\n",
        "Y = df['price']\n",
        "\n",
        "x_train, x_test, y_train, y_test = train_test_split(X, Y, test_size=0.15, random_state=1)\n",
        "\n",
        "\n",
        "print(\"number of test samples:\", x_test.shape[0])\n",
        "print(\"number of training samples:\",x_train.shape[0])"
      ]
    },
    {
      "cell_type": "markdown",
      "metadata": {
        "id": "5wceKqOGKBkC"
      },
      "source": [
        "### Question 9\n",
        "\n",
        "Create and fit a Ridge regression object using the training data, set the regularization parameter to 0.1, and calculate the R^2 using the test data.\n"
      ]
    },
    {
      "cell_type": "code",
      "execution_count": 51,
      "metadata": {
        "id": "1vrl2atZKBkC"
      },
      "outputs": [],
      "source": [
        "from sklearn.linear_model import Ridge"
      ]
    },
    {
      "cell_type": "code",
      "execution_count": 58,
      "metadata": {
        "jupyter": {
          "outputs_hidden": false
        },
        "colab": {
          "base_uri": "https://localhost:8080/"
        },
        "id": "GjdQxGCIKBkD",
        "outputId": "333fa775-2bbd-4574-c12f-9b54e76fb248"
      },
      "outputs": [
        {
          "output_type": "execute_result",
          "data": {
            "text/plain": [
              "0.6478608764223097"
            ]
          },
          "metadata": {},
          "execution_count": 58
        }
      ],
      "source": [
        "RigeModel=Ridge(alpha=0.3)\n",
        "RigeModel.fit(x_train,y_train)\n",
        "RigeModel.score(x_test,y_test)"
      ]
    },
    {
      "cell_type": "markdown",
      "metadata": {
        "id": "SEA8hYSBKBkD"
      },
      "source": [
        "### Question 10\n",
        "\n",
        "Perform a second order polynomial transform on both the training data and testing data. Create and fit a Ridge regression object using the training data, set the regularisation parameter to 0.1, and calculate the R^2 utilising the test data provided. Take a screenshot of your code and the R^2.\n"
      ]
    },
    {
      "cell_type": "code",
      "execution_count": 61,
      "metadata": {
        "jupyter": {
          "outputs_hidden": false
        },
        "colab": {
          "base_uri": "https://localhost:8080/"
        },
        "id": "ciI-Qw9qKBkD",
        "outputId": "2bd9712e-e807-439a-b4c7-715cd9fbe79f"
      },
      "outputs": [
        {
          "output_type": "execute_result",
          "data": {
            "text/plain": [
              "0.6997728449372365"
            ]
          },
          "metadata": {},
          "execution_count": 61
        }
      ],
      "source": [
        "pr=PolynomialFeatures(degree=2)\n",
        "x_train_pr=pr.fit_transform(x_train)\n",
        "x_test_pr=pr.fit_transform(x_test)\n",
        "RigeModel=Ridge(alpha=0.1)\n",
        "RigeModel.fit(x_train_pr,y_train)\n",
        "RigeModel.score(x_test_pr,y_test)"
      ]
    },
    {
      "cell_type": "markdown",
      "metadata": {
        "id": "jOHllZmRKBkD"
      },
      "source": [
        "<h2>About the Authors:</h2>\n",
        "\n",
        "<a href=\"https://www.linkedin.com/in/joseph-s-50398b136/?utm_medium=Exinfluencer&utm_source=Exinfluencer&utm_content=000026UJ&utm_term=10006555&utm_id=NA-SkillsNetwork-Channel-SkillsNetworkCoursesIBMDeveloperSkillsNetworkDA0101ENSkillsNetwork20235326-2022-01-01\">Joseph Santarcangelo</a> has a PhD in Electrical Engineering, his research focused on using machine learning, signal processing, and computer vision to determine how videos impact human cognition. Joseph has been working for IBM since he completed his PhD.\n"
      ]
    },
    {
      "cell_type": "markdown",
      "metadata": {
        "id": "t6iDMXMdKBkD"
      },
      "source": [
        "Other contributors: <a href=\"https://www.linkedin.com/in/michelleccarey/?utm_medium=Exinfluencer&utm_source=Exinfluencer&utm_content=000026UJ&utm_term=10006555&utm_id=NA-SkillsNetwork-Channel-SkillsNetworkCoursesIBMDeveloperSkillsNetworkDA0101ENSkillsNetwork20235326-2022-01-01\">Michelle Carey</a>, <a href=\"https://www.linkedin.com/in/jiahui-mavis-zhou-a4537814a?utm_medium=Exinfluencer&utm_source=Exinfluencer&utm_content=000026UJ&utm_term=10006555&utm_id=NA-SkillsNetwork-Channel-SkillsNetworkCoursesIBMDeveloperSkillsNetworkDA0101ENSkillsNetwork20235326-2022-01-01\">Mavis Zhou</a>\n"
      ]
    },
    {
      "cell_type": "markdown",
      "metadata": {
        "id": "Fq-r58ouKBkD"
      },
      "source": [
        "## Change Log\n",
        "\n",
        "| Date (YYYY-MM-DD) | Version | Changed By      | Change Description                           |\n",
        "| ----------------- | ------- | --------------- | -------------------------------------------- |\n",
        "| 2022-07-29        | 2.3     | Lakshmi Holla   | Added library import                         |\n",
        "| 2020-12-01        | 2.2     | Aije Egwaikhide | Coverted Data describtion from text to table |\n",
        "| 2020-10-06        | 2.1     | Lakshmi Holla   | Changed markdown instruction of Question1    |\n",
        "| 2020-08-27        | 2.0     | Malika Singla   | Added lab to GitLab                          |\n",
        "\n",
        "<hr>\n",
        "\n",
        "## <h3 align=\"center\"> © IBM Corporation 2020. All rights reserved. <h3/>\n",
        "\n",
        "<p>\n"
      ]
    }
  ],
  "metadata": {
    "kernelspec": {
      "display_name": "Python 3 (ipykernel)",
      "language": "python",
      "name": "python3"
    },
    "language_info": {
      "codemirror_mode": {
        "name": "ipython",
        "version": 3
      },
      "file_extension": ".py",
      "mimetype": "text/x-python",
      "name": "python",
      "nbconvert_exporter": "python",
      "pygments_lexer": "ipython3",
      "version": "3.9.13"
    },
    "colab": {
      "provenance": [],
      "include_colab_link": true
    }
  },
  "nbformat": 4,
  "nbformat_minor": 0
}